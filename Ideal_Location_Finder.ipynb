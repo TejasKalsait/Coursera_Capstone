{
 "cells": [
  {
   "cell_type": "markdown",
   "metadata": {},
   "source": [
    "# NEIGHBORING TORONTO CITY"
   ]
  },
  {
   "cell_type": "markdown",
   "metadata": {},
   "source": [
    "## EVERYTHING IS IN ONE NOTEBOOK ITSELF"
   ]
  },
  {
   "cell_type": "markdown",
   "metadata": {},
   "source": [
    "### START OF WEEK 3 ASSIGNMENT"
   ]
  },
  {
   "cell_type": "markdown",
   "metadata": {},
   "source": [
    "#### IMPORT LIBRARIES"
   ]
  },
  {
   "cell_type": "code",
   "execution_count": 141,
   "metadata": {},
   "outputs": [
    {
     "name": "stdout",
     "output_type": "stream",
     "text": [
      "Libraries imported.\n"
     ]
    }
   ],
   "source": [
    "import numpy as np # library to handle data in a vectorized manner\n",
    "\n",
    "import pandas as pd # library for data analsysis\n",
    "pd.set_option('display.max_columns', None)\n",
    "pd.set_option('display.max_rows', None)\n",
    "\n",
    "import json # library to handle JSON files\n",
    "\n",
    "#!conda install -c conda-forge geopy --yes # uncomment this line if you haven't completed the Foursquare API lab\n",
    "from geopy.geocoders import Nominatim # convert an address into latitude and longitude values\n",
    "\n",
    "import requests # library to handle requests\n",
    "from pandas.io.json import json_normalize # tranform JSON file into a pandas dataframe\n",
    "\n",
    "# Matplotlib and associated plotting modules\n",
    "import matplotlib.cm as cm\n",
    "import matplotlib.colors as colors\n",
    "\n",
    "# import DBSCAN from clustering stage\n",
    "from sklearn.cluster import DBSCAN\n",
    "from sklearn.preprocessing import StandardScaler\n",
    "\n",
    "#!conda install -c conda-forge folium=0.5.0 --yes # uncomment this line if you haven't completed the Foursquare API lab\n",
    "import folium # map rendering library\n",
    "\n",
    "print('Libraries imported.')"
   ]
  },
  {
   "cell_type": "markdown",
   "metadata": {},
   "source": [
    "#### GET THE DATA OF TORONTO CITY INTO A DATAFRAME"
   ]
  },
  {
   "cell_type": "code",
   "execution_count": 142,
   "metadata": {},
   "outputs": [
    {
     "data": {
      "text/html": [
       "<div>\n",
       "<style scoped>\n",
       "    .dataframe tbody tr th:only-of-type {\n",
       "        vertical-align: middle;\n",
       "    }\n",
       "\n",
       "    .dataframe tbody tr th {\n",
       "        vertical-align: top;\n",
       "    }\n",
       "\n",
       "    .dataframe thead th {\n",
       "        text-align: right;\n",
       "    }\n",
       "</style>\n",
       "<table border=\"1\" class=\"dataframe\">\n",
       "  <thead>\n",
       "    <tr style=\"text-align: right;\">\n",
       "      <th></th>\n",
       "      <th>Postal Code</th>\n",
       "      <th>Borough</th>\n",
       "      <th>Neighbourhood</th>\n",
       "    </tr>\n",
       "  </thead>\n",
       "  <tbody>\n",
       "    <tr>\n",
       "      <th>0</th>\n",
       "      <td>M1A</td>\n",
       "      <td>Not assigned</td>\n",
       "      <td>Not assigned</td>\n",
       "    </tr>\n",
       "    <tr>\n",
       "      <th>1</th>\n",
       "      <td>M2A</td>\n",
       "      <td>Not assigned</td>\n",
       "      <td>Not assigned</td>\n",
       "    </tr>\n",
       "    <tr>\n",
       "      <th>2</th>\n",
       "      <td>M3A</td>\n",
       "      <td>North York</td>\n",
       "      <td>Parkwoods</td>\n",
       "    </tr>\n",
       "    <tr>\n",
       "      <th>3</th>\n",
       "      <td>M4A</td>\n",
       "      <td>North York</td>\n",
       "      <td>Victoria Village</td>\n",
       "    </tr>\n",
       "    <tr>\n",
       "      <th>4</th>\n",
       "      <td>M5A</td>\n",
       "      <td>Downtown Toronto</td>\n",
       "      <td>Regent Park, Harbourfront</td>\n",
       "    </tr>\n",
       "  </tbody>\n",
       "</table>\n",
       "</div>"
      ],
      "text/plain": [
       "  Postal Code           Borough              Neighbourhood\n",
       "0         M1A      Not assigned               Not assigned\n",
       "1         M2A      Not assigned               Not assigned\n",
       "2         M3A        North York                  Parkwoods\n",
       "3         M4A        North York           Victoria Village\n",
       "4         M5A  Downtown Toronto  Regent Park, Harbourfront"
      ]
     },
     "execution_count": 142,
     "metadata": {},
     "output_type": "execute_result"
    }
   ],
   "source": [
    "url = 'https://en.wikipedia.org/wiki/List_of_postal_codes_of_Canada:_M'\n",
    "data = pd.read_html(url)[0]\n",
    "data.head()"
   ]
  },
  {
   "cell_type": "markdown",
   "metadata": {},
   "source": [
    "#### CLEANING UP THE DATA"
   ]
  },
  {
   "cell_type": "code",
   "execution_count": 143,
   "metadata": {
    "scrolled": true
   },
   "outputs": [
    {
     "data": {
      "text/html": [
       "<div>\n",
       "<style scoped>\n",
       "    .dataframe tbody tr th:only-of-type {\n",
       "        vertical-align: middle;\n",
       "    }\n",
       "\n",
       "    .dataframe tbody tr th {\n",
       "        vertical-align: top;\n",
       "    }\n",
       "\n",
       "    .dataframe thead th {\n",
       "        text-align: right;\n",
       "    }\n",
       "</style>\n",
       "<table border=\"1\" class=\"dataframe\">\n",
       "  <thead>\n",
       "    <tr style=\"text-align: right;\">\n",
       "      <th></th>\n",
       "      <th>Postal Code</th>\n",
       "      <th>Borough</th>\n",
       "      <th>Neighbourhood</th>\n",
       "    </tr>\n",
       "  </thead>\n",
       "  <tbody>\n",
       "    <tr>\n",
       "      <th>2</th>\n",
       "      <td>M3A</td>\n",
       "      <td>North York</td>\n",
       "      <td>Parkwoods</td>\n",
       "    </tr>\n",
       "    <tr>\n",
       "      <th>3</th>\n",
       "      <td>M4A</td>\n",
       "      <td>North York</td>\n",
       "      <td>Victoria Village</td>\n",
       "    </tr>\n",
       "    <tr>\n",
       "      <th>4</th>\n",
       "      <td>M5A</td>\n",
       "      <td>Downtown Toronto</td>\n",
       "      <td>Regent Park, Harbourfront</td>\n",
       "    </tr>\n",
       "    <tr>\n",
       "      <th>5</th>\n",
       "      <td>M6A</td>\n",
       "      <td>North York</td>\n",
       "      <td>Lawrence Manor, Lawrence Heights</td>\n",
       "    </tr>\n",
       "    <tr>\n",
       "      <th>6</th>\n",
       "      <td>M7A</td>\n",
       "      <td>Downtown Toronto</td>\n",
       "      <td>Queen's Park, Ontario Provincial Government</td>\n",
       "    </tr>\n",
       "  </tbody>\n",
       "</table>\n",
       "</div>"
      ],
      "text/plain": [
       "  Postal Code           Borough                                Neighbourhood\n",
       "2         M3A        North York                                    Parkwoods\n",
       "3         M4A        North York                             Victoria Village\n",
       "4         M5A  Downtown Toronto                    Regent Park, Harbourfront\n",
       "5         M6A        North York             Lawrence Manor, Lawrence Heights\n",
       "6         M7A  Downtown Toronto  Queen's Park, Ontario Provincial Government"
      ]
     },
     "execution_count": 143,
     "metadata": {},
     "output_type": "execute_result"
    }
   ],
   "source": [
    "Toronto_data = data.where(data['Borough'] != 'Not assigned').dropna()\n",
    "Toronto_data.head()"
   ]
  },
  {
   "cell_type": "code",
   "execution_count": 144,
   "metadata": {},
   "outputs": [
    {
     "data": {
      "text/html": [
       "<div>\n",
       "<style scoped>\n",
       "    .dataframe tbody tr th:only-of-type {\n",
       "        vertical-align: middle;\n",
       "    }\n",
       "\n",
       "    .dataframe tbody tr th {\n",
       "        vertical-align: top;\n",
       "    }\n",
       "\n",
       "    .dataframe thead th {\n",
       "        text-align: right;\n",
       "    }\n",
       "</style>\n",
       "<table border=\"1\" class=\"dataframe\">\n",
       "  <thead>\n",
       "    <tr style=\"text-align: right;\">\n",
       "      <th></th>\n",
       "      <th>Postal Code</th>\n",
       "      <th>Borough</th>\n",
       "      <th>Neighbourhood</th>\n",
       "    </tr>\n",
       "  </thead>\n",
       "  <tbody>\n",
       "    <tr>\n",
       "      <th>0</th>\n",
       "      <td>M1B</td>\n",
       "      <td>Scarborough</td>\n",
       "      <td>Malvern, Rouge</td>\n",
       "    </tr>\n",
       "    <tr>\n",
       "      <th>1</th>\n",
       "      <td>M1C</td>\n",
       "      <td>Scarborough</td>\n",
       "      <td>Rouge Hill, Port Union, Highland Creek</td>\n",
       "    </tr>\n",
       "    <tr>\n",
       "      <th>2</th>\n",
       "      <td>M1E</td>\n",
       "      <td>Scarborough</td>\n",
       "      <td>Guildwood, Morningside, West Hill</td>\n",
       "    </tr>\n",
       "    <tr>\n",
       "      <th>3</th>\n",
       "      <td>M1G</td>\n",
       "      <td>Scarborough</td>\n",
       "      <td>Woburn</td>\n",
       "    </tr>\n",
       "    <tr>\n",
       "      <th>4</th>\n",
       "      <td>M1H</td>\n",
       "      <td>Scarborough</td>\n",
       "      <td>Cedarbrae</td>\n",
       "    </tr>\n",
       "  </tbody>\n",
       "</table>\n",
       "</div>"
      ],
      "text/plain": [
       "  Postal Code      Borough                           Neighbourhood\n",
       "0         M1B  Scarborough                          Malvern, Rouge\n",
       "1         M1C  Scarborough  Rouge Hill, Port Union, Highland Creek\n",
       "2         M1E  Scarborough       Guildwood, Morningside, West Hill\n",
       "3         M1G  Scarborough                                  Woburn\n",
       "4         M1H  Scarborough                               Cedarbrae"
      ]
     },
     "execution_count": 144,
     "metadata": {},
     "output_type": "execute_result"
    }
   ],
   "source": [
    "Toronto_data.sort_values('Postal Code', ascending = True, inplace = True)\n",
    "Toronto_data = Toronto_data.reset_index().drop('index', axis = 1)\n",
    "Toronto_data.head()"
   ]
  },
  {
   "cell_type": "code",
   "execution_count": 145,
   "metadata": {},
   "outputs": [
    {
     "data": {
      "text/html": [
       "<div>\n",
       "<style scoped>\n",
       "    .dataframe tbody tr th:only-of-type {\n",
       "        vertical-align: middle;\n",
       "    }\n",
       "\n",
       "    .dataframe tbody tr th {\n",
       "        vertical-align: top;\n",
       "    }\n",
       "\n",
       "    .dataframe thead th {\n",
       "        text-align: right;\n",
       "    }\n",
       "</style>\n",
       "<table border=\"1\" class=\"dataframe\">\n",
       "  <thead>\n",
       "    <tr style=\"text-align: right;\">\n",
       "      <th></th>\n",
       "      <th>Postal Code</th>\n",
       "      <th>Borough</th>\n",
       "      <th>Neighbourhood</th>\n",
       "    </tr>\n",
       "  </thead>\n",
       "  <tbody>\n",
       "    <tr>\n",
       "      <th>0</th>\n",
       "      <td>M1B</td>\n",
       "      <td>Scarborough</td>\n",
       "      <td>Malvern, Rouge</td>\n",
       "    </tr>\n",
       "    <tr>\n",
       "      <th>1</th>\n",
       "      <td>M1C</td>\n",
       "      <td>Scarborough</td>\n",
       "      <td>Rouge Hill, Port Union, Highland Creek</td>\n",
       "    </tr>\n",
       "    <tr>\n",
       "      <th>2</th>\n",
       "      <td>M1E</td>\n",
       "      <td>Scarborough</td>\n",
       "      <td>Guildwood, Morningside, West Hill</td>\n",
       "    </tr>\n",
       "    <tr>\n",
       "      <th>3</th>\n",
       "      <td>M1G</td>\n",
       "      <td>Scarborough</td>\n",
       "      <td>Woburn</td>\n",
       "    </tr>\n",
       "    <tr>\n",
       "      <th>4</th>\n",
       "      <td>M1H</td>\n",
       "      <td>Scarborough</td>\n",
       "      <td>Cedarbrae</td>\n",
       "    </tr>\n",
       "  </tbody>\n",
       "</table>\n",
       "</div>"
      ],
      "text/plain": [
       "  Postal Code      Borough                           Neighbourhood\n",
       "0         M1B  Scarborough                          Malvern, Rouge\n",
       "1         M1C  Scarborough  Rouge Hill, Port Union, Highland Creek\n",
       "2         M1E  Scarborough       Guildwood, Morningside, West Hill\n",
       "3         M1G  Scarborough                                  Woburn\n",
       "4         M1H  Scarborough                               Cedarbrae"
      ]
     },
     "execution_count": 145,
     "metadata": {},
     "output_type": "execute_result"
    }
   ],
   "source": [
    "for index, row in Toronto_data.iterrows():\n",
    "    if row['Neighbourhood'] == 'Not assigned':\n",
    "        row['Neighbourhood'] == row['Borough']\n",
    "Toronto_data.head()"
   ]
  },
  {
   "cell_type": "code",
   "execution_count": 146,
   "metadata": {},
   "outputs": [
    {
     "data": {
      "text/plain": [
       "(103, 3)"
      ]
     },
     "execution_count": 146,
     "metadata": {},
     "output_type": "execute_result"
    }
   ],
   "source": [
    "Toronto_data.shape"
   ]
  },
  {
   "cell_type": "markdown",
   "metadata": {},
   "source": [
    "#### TRIED FINDING THE LATITUDE AND LONGITUDE OF THE POSTAL CODE (USING GEOPY)"
   ]
  },
  {
   "cell_type": "code",
   "execution_count": 147,
   "metadata": {
    "scrolled": true
   },
   "outputs": [],
   "source": [
    "# Create new columns\n",
    "Toronto_data['Latitude'] = None\n",
    "Toronto_data['Longitude'] = None\n",
    "geolocator = Nominatim(user_agent=\"to_explorer\")\n",
    "\n",
    "# iterate over every row to find its latitude and logitude\n",
    "for index, row in Toronto_data.iterrows():\n",
    "    Neighbourhood = row['Neighbourhood'].split(',')[0]\n",
    "    #print(Neighbourhood)\n",
    "    address = '{}, Toronto, Ontario'.format(Neighbourhood)\n",
    "    location = geolocator.geocode(address)\n",
    "    \n",
    "    if location is None:\n",
    "        continue\n",
    "    latitude = location.latitude\n",
    "    longitude = location.longitude\n",
    "    \n",
    "    # Add it to the new columns\n",
    "    row['Latitude'] = latitude\n",
    "    row['Longitude'] = longitude"
   ]
  },
  {
   "cell_type": "markdown",
   "metadata": {},
   "source": [
    "#### TRIED FINDING THE LATITUDE AND LONGITUDE OF THE POSTAL CODE (USING GEOCODER)"
   ]
  },
  {
   "cell_type": "code",
   "execution_count": 8,
   "metadata": {
    "collapsed": true
   },
   "outputs": [
    {
     "ename": "KeyError",
     "evalue": "'Postal code'",
     "output_type": "error",
     "traceback": [
      "\u001b[1;31m---------------------------------------------------------------------------\u001b[0m",
      "\u001b[1;31mTypeError\u001b[0m                                 Traceback (most recent call last)",
      "\u001b[1;32m~\\anaconda3\\lib\\site-packages\\pandas\\core\\indexes\\base.py\u001b[0m in \u001b[0;36mget_value\u001b[1;34m(self, series, key)\u001b[0m\n\u001b[0;32m   4410\u001b[0m             \u001b[1;32mtry\u001b[0m\u001b[1;33m:\u001b[0m\u001b[1;33m\u001b[0m\u001b[1;33m\u001b[0m\u001b[0m\n\u001b[1;32m-> 4411\u001b[1;33m                 \u001b[1;32mreturn\u001b[0m \u001b[0mlibindex\u001b[0m\u001b[1;33m.\u001b[0m\u001b[0mget_value_at\u001b[0m\u001b[1;33m(\u001b[0m\u001b[0ms\u001b[0m\u001b[1;33m,\u001b[0m \u001b[0mkey\u001b[0m\u001b[1;33m)\u001b[0m\u001b[1;33m\u001b[0m\u001b[1;33m\u001b[0m\u001b[0m\n\u001b[0m\u001b[0;32m   4412\u001b[0m             \u001b[1;32mexcept\u001b[0m \u001b[0mIndexError\u001b[0m\u001b[1;33m:\u001b[0m\u001b[1;33m\u001b[0m\u001b[1;33m\u001b[0m\u001b[0m\n",
      "\u001b[1;32mpandas\\_libs\\index.pyx\u001b[0m in \u001b[0;36mpandas._libs.index.get_value_at\u001b[1;34m()\u001b[0m\n",
      "\u001b[1;32mpandas\\_libs\\index.pyx\u001b[0m in \u001b[0;36mpandas._libs.index.get_value_at\u001b[1;34m()\u001b[0m\n",
      "\u001b[1;32mpandas\\_libs\\util.pxd\u001b[0m in \u001b[0;36mpandas._libs.util.get_value_at\u001b[1;34m()\u001b[0m\n",
      "\u001b[1;32mpandas\\_libs\\util.pxd\u001b[0m in \u001b[0;36mpandas._libs.util.validate_indexer\u001b[1;34m()\u001b[0m\n",
      "\u001b[1;31mTypeError\u001b[0m: 'str' object cannot be interpreted as an integer",
      "\nDuring handling of the above exception, another exception occurred:\n",
      "\u001b[1;31mKeyError\u001b[0m                                  Traceback (most recent call last)",
      "\u001b[1;32m<ipython-input-8-0170bf99a1e9>\u001b[0m in \u001b[0;36m<module>\u001b[1;34m\u001b[0m\n\u001b[0;32m     11\u001b[0m \u001b[1;31m# iterate over every row to find its latitude and logitude\u001b[0m\u001b[1;33m\u001b[0m\u001b[1;33m\u001b[0m\u001b[1;33m\u001b[0m\u001b[0m\n\u001b[0;32m     12\u001b[0m \u001b[1;32mfor\u001b[0m \u001b[0mindex\u001b[0m\u001b[1;33m,\u001b[0m \u001b[0mrow\u001b[0m \u001b[1;32min\u001b[0m \u001b[0mToronto_data\u001b[0m\u001b[1;33m.\u001b[0m\u001b[0miterrows\u001b[0m\u001b[1;33m(\u001b[0m\u001b[1;33m)\u001b[0m\u001b[1;33m:\u001b[0m\u001b[1;33m\u001b[0m\u001b[1;33m\u001b[0m\u001b[0m\n\u001b[1;32m---> 13\u001b[1;33m     \u001b[0mPostal_code\u001b[0m \u001b[1;33m=\u001b[0m \u001b[0mrow\u001b[0m\u001b[1;33m[\u001b[0m\u001b[1;34m'Postal code'\u001b[0m\u001b[1;33m]\u001b[0m\u001b[1;33m\u001b[0m\u001b[1;33m\u001b[0m\u001b[0m\n\u001b[0m\u001b[0;32m     14\u001b[0m     \u001b[1;31m# While loop till we get locations\u001b[0m\u001b[1;33m\u001b[0m\u001b[1;33m\u001b[0m\u001b[1;33m\u001b[0m\u001b[0m\n\u001b[0;32m     15\u001b[0m     \u001b[1;32mwhile\u001b[0m \u001b[1;33m(\u001b[0m\u001b[0mcoordinates\u001b[0m \u001b[1;33m==\u001b[0m \u001b[1;32mNone\u001b[0m\u001b[1;33m)\u001b[0m\u001b[1;33m:\u001b[0m\u001b[1;33m\u001b[0m\u001b[1;33m\u001b[0m\u001b[0m\n",
      "\u001b[1;32m~\\anaconda3\\lib\\site-packages\\pandas\\core\\series.py\u001b[0m in \u001b[0;36m__getitem__\u001b[1;34m(self, key)\u001b[0m\n\u001b[0;32m    869\u001b[0m         \u001b[0mkey\u001b[0m \u001b[1;33m=\u001b[0m \u001b[0mcom\u001b[0m\u001b[1;33m.\u001b[0m\u001b[0mapply_if_callable\u001b[0m\u001b[1;33m(\u001b[0m\u001b[0mkey\u001b[0m\u001b[1;33m,\u001b[0m \u001b[0mself\u001b[0m\u001b[1;33m)\u001b[0m\u001b[1;33m\u001b[0m\u001b[1;33m\u001b[0m\u001b[0m\n\u001b[0;32m    870\u001b[0m         \u001b[1;32mtry\u001b[0m\u001b[1;33m:\u001b[0m\u001b[1;33m\u001b[0m\u001b[1;33m\u001b[0m\u001b[0m\n\u001b[1;32m--> 871\u001b[1;33m             \u001b[0mresult\u001b[0m \u001b[1;33m=\u001b[0m \u001b[0mself\u001b[0m\u001b[1;33m.\u001b[0m\u001b[0mindex\u001b[0m\u001b[1;33m.\u001b[0m\u001b[0mget_value\u001b[0m\u001b[1;33m(\u001b[0m\u001b[0mself\u001b[0m\u001b[1;33m,\u001b[0m \u001b[0mkey\u001b[0m\u001b[1;33m)\u001b[0m\u001b[1;33m\u001b[0m\u001b[1;33m\u001b[0m\u001b[0m\n\u001b[0m\u001b[0;32m    872\u001b[0m \u001b[1;33m\u001b[0m\u001b[0m\n\u001b[0;32m    873\u001b[0m             \u001b[1;32mif\u001b[0m \u001b[1;32mnot\u001b[0m \u001b[0mis_scalar\u001b[0m\u001b[1;33m(\u001b[0m\u001b[0mresult\u001b[0m\u001b[1;33m)\u001b[0m\u001b[1;33m:\u001b[0m\u001b[1;33m\u001b[0m\u001b[1;33m\u001b[0m\u001b[0m\n",
      "\u001b[1;32m~\\anaconda3\\lib\\site-packages\\pandas\\core\\indexes\\base.py\u001b[0m in \u001b[0;36mget_value\u001b[1;34m(self, series, key)\u001b[0m\n\u001b[0;32m   4417\u001b[0m                     \u001b[1;32mraise\u001b[0m \u001b[0mInvalidIndexError\u001b[0m\u001b[1;33m(\u001b[0m\u001b[0mkey\u001b[0m\u001b[1;33m)\u001b[0m\u001b[1;33m\u001b[0m\u001b[1;33m\u001b[0m\u001b[0m\n\u001b[0;32m   4418\u001b[0m                 \u001b[1;32melse\u001b[0m\u001b[1;33m:\u001b[0m\u001b[1;33m\u001b[0m\u001b[1;33m\u001b[0m\u001b[0m\n\u001b[1;32m-> 4419\u001b[1;33m                     \u001b[1;32mraise\u001b[0m \u001b[0me1\u001b[0m\u001b[1;33m\u001b[0m\u001b[1;33m\u001b[0m\u001b[0m\n\u001b[0m\u001b[0;32m   4420\u001b[0m             \u001b[1;32mexcept\u001b[0m \u001b[0mException\u001b[0m\u001b[1;33m:\u001b[0m\u001b[1;33m\u001b[0m\u001b[1;33m\u001b[0m\u001b[0m\n\u001b[0;32m   4421\u001b[0m                 \u001b[1;32mraise\u001b[0m \u001b[0me1\u001b[0m\u001b[1;33m\u001b[0m\u001b[1;33m\u001b[0m\u001b[0m\n",
      "\u001b[1;32m~\\anaconda3\\lib\\site-packages\\pandas\\core\\indexes\\base.py\u001b[0m in \u001b[0;36mget_value\u001b[1;34m(self, series, key)\u001b[0m\n\u001b[0;32m   4403\u001b[0m         \u001b[0mk\u001b[0m \u001b[1;33m=\u001b[0m \u001b[0mself\u001b[0m\u001b[1;33m.\u001b[0m\u001b[0m_convert_scalar_indexer\u001b[0m\u001b[1;33m(\u001b[0m\u001b[0mk\u001b[0m\u001b[1;33m,\u001b[0m \u001b[0mkind\u001b[0m\u001b[1;33m=\u001b[0m\u001b[1;34m\"getitem\"\u001b[0m\u001b[1;33m)\u001b[0m\u001b[1;33m\u001b[0m\u001b[1;33m\u001b[0m\u001b[0m\n\u001b[0;32m   4404\u001b[0m         \u001b[1;32mtry\u001b[0m\u001b[1;33m:\u001b[0m\u001b[1;33m\u001b[0m\u001b[1;33m\u001b[0m\u001b[0m\n\u001b[1;32m-> 4405\u001b[1;33m             \u001b[1;32mreturn\u001b[0m \u001b[0mself\u001b[0m\u001b[1;33m.\u001b[0m\u001b[0m_engine\u001b[0m\u001b[1;33m.\u001b[0m\u001b[0mget_value\u001b[0m\u001b[1;33m(\u001b[0m\u001b[0ms\u001b[0m\u001b[1;33m,\u001b[0m \u001b[0mk\u001b[0m\u001b[1;33m,\u001b[0m \u001b[0mtz\u001b[0m\u001b[1;33m=\u001b[0m\u001b[0mgetattr\u001b[0m\u001b[1;33m(\u001b[0m\u001b[0mseries\u001b[0m\u001b[1;33m.\u001b[0m\u001b[0mdtype\u001b[0m\u001b[1;33m,\u001b[0m \u001b[1;34m\"tz\"\u001b[0m\u001b[1;33m,\u001b[0m \u001b[1;32mNone\u001b[0m\u001b[1;33m)\u001b[0m\u001b[1;33m)\u001b[0m\u001b[1;33m\u001b[0m\u001b[1;33m\u001b[0m\u001b[0m\n\u001b[0m\u001b[0;32m   4406\u001b[0m         \u001b[1;32mexcept\u001b[0m \u001b[0mKeyError\u001b[0m \u001b[1;32mas\u001b[0m \u001b[0me1\u001b[0m\u001b[1;33m:\u001b[0m\u001b[1;33m\u001b[0m\u001b[1;33m\u001b[0m\u001b[0m\n\u001b[0;32m   4407\u001b[0m             \u001b[1;32mif\u001b[0m \u001b[0mlen\u001b[0m\u001b[1;33m(\u001b[0m\u001b[0mself\u001b[0m\u001b[1;33m)\u001b[0m \u001b[1;33m>\u001b[0m \u001b[1;36m0\u001b[0m \u001b[1;32mand\u001b[0m \u001b[1;33m(\u001b[0m\u001b[0mself\u001b[0m\u001b[1;33m.\u001b[0m\u001b[0mholds_integer\u001b[0m\u001b[1;33m(\u001b[0m\u001b[1;33m)\u001b[0m \u001b[1;32mor\u001b[0m \u001b[0mself\u001b[0m\u001b[1;33m.\u001b[0m\u001b[0mis_boolean\u001b[0m\u001b[1;33m(\u001b[0m\u001b[1;33m)\u001b[0m\u001b[1;33m)\u001b[0m\u001b[1;33m:\u001b[0m\u001b[1;33m\u001b[0m\u001b[1;33m\u001b[0m\u001b[0m\n",
      "\u001b[1;32mpandas\\_libs\\index.pyx\u001b[0m in \u001b[0;36mpandas._libs.index.IndexEngine.get_value\u001b[1;34m()\u001b[0m\n",
      "\u001b[1;32mpandas\\_libs\\index.pyx\u001b[0m in \u001b[0;36mpandas._libs.index.IndexEngine.get_value\u001b[1;34m()\u001b[0m\n",
      "\u001b[1;32mpandas\\_libs\\index.pyx\u001b[0m in \u001b[0;36mpandas._libs.index.IndexEngine.get_loc\u001b[1;34m()\u001b[0m\n",
      "\u001b[1;32mpandas\\_libs\\hashtable_class_helper.pxi\u001b[0m in \u001b[0;36mpandas._libs.hashtable.PyObjectHashTable.get_item\u001b[1;34m()\u001b[0m\n",
      "\u001b[1;32mpandas\\_libs\\hashtable_class_helper.pxi\u001b[0m in \u001b[0;36mpandas._libs.hashtable.PyObjectHashTable.get_item\u001b[1;34m()\u001b[0m\n",
      "\u001b[1;31mKeyError\u001b[0m: 'Postal code'"
     ]
    }
   ],
   "source": [
    "# import library\n",
    "import geocoder\n",
    "\n",
    "# Create new columns\n",
    "Toronto_data['Latitude'] = None\n",
    "Toronto_data['Longitude'] = None\n",
    "\n",
    "# initiatize variable to None\n",
    "coordinates = None\n",
    "\n",
    "# iterate over every row to find its latitude and logitude\n",
    "for index, row in Toronto_data.iterrows():\n",
    "    Postal_code = row['Postal code']\n",
    "    # While loop till we get locations\n",
    "    while (coordinates == None):\n",
    "        g = geocoder.google('{}, Toronto, Ontario'.format(Postal_code))\n",
    "        coordinates = g.latlng\n",
    "    \n",
    "    latitude = coordinates[0]\n",
    "    longitude = coordinates[1]\n",
    "    \n",
    "    # Add it to the new columns\n",
    "    row['Latitude'] = latitude\n",
    "    row['Longitude'] = longitude"
   ]
  },
  {
   "cell_type": "markdown",
   "metadata": {},
   "source": [
    "#### USING THE GIVEN COORDINATES FILE "
   ]
  },
  {
   "cell_type": "code",
   "execution_count": 148,
   "metadata": {},
   "outputs": [
    {
     "data": {
      "text/html": [
       "<div>\n",
       "<style scoped>\n",
       "    .dataframe tbody tr th:only-of-type {\n",
       "        vertical-align: middle;\n",
       "    }\n",
       "\n",
       "    .dataframe tbody tr th {\n",
       "        vertical-align: top;\n",
       "    }\n",
       "\n",
       "    .dataframe thead th {\n",
       "        text-align: right;\n",
       "    }\n",
       "</style>\n",
       "<table border=\"1\" class=\"dataframe\">\n",
       "  <thead>\n",
       "    <tr style=\"text-align: right;\">\n",
       "      <th></th>\n",
       "      <th>Postal Code</th>\n",
       "      <th>Latitude</th>\n",
       "      <th>Longitude</th>\n",
       "    </tr>\n",
       "  </thead>\n",
       "  <tbody>\n",
       "    <tr>\n",
       "      <th>0</th>\n",
       "      <td>M1B</td>\n",
       "      <td>43.806686</td>\n",
       "      <td>-79.194353</td>\n",
       "    </tr>\n",
       "    <tr>\n",
       "      <th>1</th>\n",
       "      <td>M1C</td>\n",
       "      <td>43.784535</td>\n",
       "      <td>-79.160497</td>\n",
       "    </tr>\n",
       "    <tr>\n",
       "      <th>2</th>\n",
       "      <td>M1E</td>\n",
       "      <td>43.763573</td>\n",
       "      <td>-79.188711</td>\n",
       "    </tr>\n",
       "    <tr>\n",
       "      <th>3</th>\n",
       "      <td>M1G</td>\n",
       "      <td>43.770992</td>\n",
       "      <td>-79.216917</td>\n",
       "    </tr>\n",
       "    <tr>\n",
       "      <th>4</th>\n",
       "      <td>M1H</td>\n",
       "      <td>43.773136</td>\n",
       "      <td>-79.239476</td>\n",
       "    </tr>\n",
       "  </tbody>\n",
       "</table>\n",
       "</div>"
      ],
      "text/plain": [
       "  Postal Code   Latitude  Longitude\n",
       "0         M1B  43.806686 -79.194353\n",
       "1         M1C  43.784535 -79.160497\n",
       "2         M1E  43.763573 -79.188711\n",
       "3         M1G  43.770992 -79.216917\n",
       "4         M1H  43.773136 -79.239476"
      ]
     },
     "execution_count": 148,
     "metadata": {},
     "output_type": "execute_result"
    }
   ],
   "source": [
    "# Read the csv file containing the coordinates\n",
    "coordinates_df = pd.read_csv('Geospatial_Coordinates.csv')\n",
    "coordinates_df.head()"
   ]
  },
  {
   "cell_type": "code",
   "execution_count": 149,
   "metadata": {},
   "outputs": [
    {
     "data": {
      "text/plain": [
       "(103, 3)"
      ]
     },
     "execution_count": 149,
     "metadata": {},
     "output_type": "execute_result"
    }
   ],
   "source": [
    "coordinates_df.shape"
   ]
  },
  {
   "cell_type": "code",
   "execution_count": 150,
   "metadata": {},
   "outputs": [
    {
     "data": {
      "text/html": [
       "<div>\n",
       "<style scoped>\n",
       "    .dataframe tbody tr th:only-of-type {\n",
       "        vertical-align: middle;\n",
       "    }\n",
       "\n",
       "    .dataframe tbody tr th {\n",
       "        vertical-align: top;\n",
       "    }\n",
       "\n",
       "    .dataframe thead th {\n",
       "        text-align: right;\n",
       "    }\n",
       "</style>\n",
       "<table border=\"1\" class=\"dataframe\">\n",
       "  <thead>\n",
       "    <tr style=\"text-align: right;\">\n",
       "      <th></th>\n",
       "      <th>Postal Code</th>\n",
       "      <th>Borough</th>\n",
       "      <th>Neighbourhood</th>\n",
       "      <th>Latitude</th>\n",
       "      <th>Longitude</th>\n",
       "    </tr>\n",
       "  </thead>\n",
       "  <tbody>\n",
       "    <tr>\n",
       "      <th>0</th>\n",
       "      <td>M1B</td>\n",
       "      <td>Scarborough</td>\n",
       "      <td>Malvern, Rouge</td>\n",
       "      <td>43.806686</td>\n",
       "      <td>-79.194353</td>\n",
       "    </tr>\n",
       "    <tr>\n",
       "      <th>1</th>\n",
       "      <td>M1C</td>\n",
       "      <td>Scarborough</td>\n",
       "      <td>Rouge Hill, Port Union, Highland Creek</td>\n",
       "      <td>43.784535</td>\n",
       "      <td>-79.160497</td>\n",
       "    </tr>\n",
       "    <tr>\n",
       "      <th>2</th>\n",
       "      <td>M1E</td>\n",
       "      <td>Scarborough</td>\n",
       "      <td>Guildwood, Morningside, West Hill</td>\n",
       "      <td>43.763573</td>\n",
       "      <td>-79.188711</td>\n",
       "    </tr>\n",
       "    <tr>\n",
       "      <th>3</th>\n",
       "      <td>M1G</td>\n",
       "      <td>Scarborough</td>\n",
       "      <td>Woburn</td>\n",
       "      <td>43.770992</td>\n",
       "      <td>-79.216917</td>\n",
       "    </tr>\n",
       "    <tr>\n",
       "      <th>4</th>\n",
       "      <td>M1H</td>\n",
       "      <td>Scarborough</td>\n",
       "      <td>Cedarbrae</td>\n",
       "      <td>43.773136</td>\n",
       "      <td>-79.239476</td>\n",
       "    </tr>\n",
       "  </tbody>\n",
       "</table>\n",
       "</div>"
      ],
      "text/plain": [
       "  Postal Code      Borough                           Neighbourhood   Latitude  \\\n",
       "0         M1B  Scarborough                          Malvern, Rouge  43.806686   \n",
       "1         M1C  Scarborough  Rouge Hill, Port Union, Highland Creek  43.784535   \n",
       "2         M1E  Scarborough       Guildwood, Morningside, West Hill  43.763573   \n",
       "3         M1G  Scarborough                                  Woburn  43.770992   \n",
       "4         M1H  Scarborough                               Cedarbrae  43.773136   \n",
       "\n",
       "   Longitude  \n",
       "0 -79.194353  \n",
       "1 -79.160497  \n",
       "2 -79.188711  \n",
       "3 -79.216917  \n",
       "4 -79.239476  "
      ]
     },
     "execution_count": 150,
     "metadata": {},
     "output_type": "execute_result"
    }
   ],
   "source": [
    "# Adding the Latitude and Longitude values \n",
    "Toronto_data['Latitude'] = coordinates_df['Latitude']\n",
    "Toronto_data['Longitude'] = coordinates_df['Longitude']\n",
    "Toronto_data.head()"
   ]
  },
  {
   "cell_type": "markdown",
   "metadata": {},
   "source": [
    "### END OF WEEK 3 ASSIGNMENT"
   ]
  },
  {
   "cell_type": "markdown",
   "metadata": {},
   "source": [
    "### START OF WEEK 4 ASSIGNMENT"
   ]
  },
  {
   "cell_type": "markdown",
   "metadata": {},
   "source": [
    "#### Problem Statement"
   ]
  },
  {
   "cell_type": "markdown",
   "metadata": {},
   "source": [
    "You want to open a new coffee shop in Toronto, CA. You want to find the optimal venue to set up your cafe to maximize the profit."
   ]
  },
  {
   "cell_type": "markdown",
   "metadata": {},
   "source": [
    "1) We select the top 10 neighborhood having maximum number of offices, colleges and schools.<br>\n",
    "2) Make a union list of all these neighborhood.<br>\n",
    "3) For all these neighborhood, we find which one of these has the minimum number of coffee shops.<br>\n",
    "4) Once we find the neighborhood where we want to set up our shop, we search for trending venues in the neighborhood and set up a shop there.<br>\n",
    "5) We then combine all the offices, colleges and schools data points to cluster them into groups to find outliers\n",
    "6) Visualize the colleges and schools in the area and select the area where the data points are densed.<br>\n",
    "7) If not happy with the result, select the second neighborhood with minimum number of coffee shops.<br>"
   ]
  },
  {
   "cell_type": "markdown",
   "metadata": {},
   "source": [
    "We will be using the Toranto_data that we created earlier to get the neighbouhood data and the Foursquare API for location data"
   ]
  },
  {
   "cell_type": "markdown",
   "metadata": {},
   "source": [
    "### END OF WEEK 4 ASSIGNMENT"
   ]
  },
  {
   "cell_type": "markdown",
   "metadata": {},
   "source": [
    "### START OF WEEK 5 ASSIGNMENT"
   ]
  },
  {
   "cell_type": "markdown",
   "metadata": {},
   "source": [
    "   #### FIND MAXIMUM NUMBER OF OFFICES USING FOURSQUARE API"
   ]
  },
  {
   "cell_type": "code",
   "execution_count": 151,
   "metadata": {},
   "outputs": [],
   "source": [
    "# Make extra columns to the dataset\n",
    "Toronto_data['offices'] = None\n",
    "Toronto_data['colleges'] = None\n",
    "Toronto_data['schools'] = None"
   ]
  },
  {
   "cell_type": "code",
   "execution_count": 152,
   "metadata": {},
   "outputs": [
    {
     "name": "stderr",
     "output_type": "stream",
     "text": [
      "C:\\Users\\Tejas\\anaconda3\\lib\\site-packages\\ipykernel_launcher.py:23: FutureWarning: pandas.io.json.json_normalize is deprecated, use pandas.json_normalize instead\n"
     ]
    }
   ],
   "source": [
    "# API parameters\n",
    "RADIUS = 500\n",
    "LIMIT = 100\n",
    "QUERY = 'office'\n",
    "CLIENT_ID = 'HNAVL03NPRXQBKBJAM423EQ2U0ZITQV5OS50DODNPB10OUI5' # your Foursquare ID\n",
    "CLIENT_SECRET = 'LQW1BBS1HK2KMOVYN3ALEQVWIUWG0ELBSB4VQ5PJJRY2WJWF' # your Foursquare Secret\n",
    "ACCESS_TOKEN = 'CEYIBG2MFAYGN3HQSUFTU41ZJBBTJS1QH1XU5YI00QEUP4NF' # your FourSquare Access Token\n",
    "VERSION = '20180604'\n",
    "\n",
    "# new lists\n",
    "office_list = []\n",
    "college_list = []\n",
    "school_list = []\n",
    "\n",
    "for index, row in Toronto_data.iterrows():\n",
    "    LATITUDE = row['Latitude']\n",
    "    LONGITUDE = row['Longitude']\n",
    "\n",
    "    # API url\n",
    "    url = 'https://api.foursquare.com/v2/venues/search?client_id={}&client_secret={}&v={}&ll={},{}&radius={}&oauth_token={}&query={}&limit={}'.format(CLIENT_ID,CLIENT_SECRET,VERSION,LATITUDE,LONGITUDE,RADIUS,ACCESS_TOKEN,QUERY,LIMIT)\n",
    "    results = requests.get(url).json()\n",
    "    offices = results['response']['venues']\n",
    "    temp_dataframe = json_normalize(offices)\n",
    "    #print(temp_dataframe)\n",
    "    Number_of_offices = temp_dataframe.shape[0]\n",
    "    #print(temp_dataframe.shape[0])\n",
    "    office_list.append(Number_of_offices)    "
   ]
  },
  {
   "cell_type": "code",
   "execution_count": 153,
   "metadata": {},
   "outputs": [
    {
     "data": {
      "text/html": [
       "<div>\n",
       "<style scoped>\n",
       "    .dataframe tbody tr th:only-of-type {\n",
       "        vertical-align: middle;\n",
       "    }\n",
       "\n",
       "    .dataframe tbody tr th {\n",
       "        vertical-align: top;\n",
       "    }\n",
       "\n",
       "    .dataframe thead th {\n",
       "        text-align: right;\n",
       "    }\n",
       "</style>\n",
       "<table border=\"1\" class=\"dataframe\">\n",
       "  <thead>\n",
       "    <tr style=\"text-align: right;\">\n",
       "      <th></th>\n",
       "      <th>Postal Code</th>\n",
       "      <th>Borough</th>\n",
       "      <th>Neighbourhood</th>\n",
       "      <th>Latitude</th>\n",
       "      <th>Longitude</th>\n",
       "      <th>offices</th>\n",
       "      <th>colleges</th>\n",
       "      <th>schools</th>\n",
       "    </tr>\n",
       "  </thead>\n",
       "  <tbody>\n",
       "    <tr>\n",
       "      <th>0</th>\n",
       "      <td>M1B</td>\n",
       "      <td>Scarborough</td>\n",
       "      <td>Malvern, Rouge</td>\n",
       "      <td>43.806686</td>\n",
       "      <td>-79.194353</td>\n",
       "      <td>1</td>\n",
       "      <td>None</td>\n",
       "      <td>None</td>\n",
       "    </tr>\n",
       "    <tr>\n",
       "      <th>1</th>\n",
       "      <td>M1C</td>\n",
       "      <td>Scarborough</td>\n",
       "      <td>Rouge Hill, Port Union, Highland Creek</td>\n",
       "      <td>43.784535</td>\n",
       "      <td>-79.160497</td>\n",
       "      <td>1</td>\n",
       "      <td>None</td>\n",
       "      <td>None</td>\n",
       "    </tr>\n",
       "    <tr>\n",
       "      <th>2</th>\n",
       "      <td>M1E</td>\n",
       "      <td>Scarborough</td>\n",
       "      <td>Guildwood, Morningside, West Hill</td>\n",
       "      <td>43.763573</td>\n",
       "      <td>-79.188711</td>\n",
       "      <td>0</td>\n",
       "      <td>None</td>\n",
       "      <td>None</td>\n",
       "    </tr>\n",
       "    <tr>\n",
       "      <th>3</th>\n",
       "      <td>M1G</td>\n",
       "      <td>Scarborough</td>\n",
       "      <td>Woburn</td>\n",
       "      <td>43.770992</td>\n",
       "      <td>-79.216917</td>\n",
       "      <td>0</td>\n",
       "      <td>None</td>\n",
       "      <td>None</td>\n",
       "    </tr>\n",
       "    <tr>\n",
       "      <th>4</th>\n",
       "      <td>M1H</td>\n",
       "      <td>Scarborough</td>\n",
       "      <td>Cedarbrae</td>\n",
       "      <td>43.773136</td>\n",
       "      <td>-79.239476</td>\n",
       "      <td>2</td>\n",
       "      <td>None</td>\n",
       "      <td>None</td>\n",
       "    </tr>\n",
       "  </tbody>\n",
       "</table>\n",
       "</div>"
      ],
      "text/plain": [
       "  Postal Code      Borough                           Neighbourhood   Latitude  \\\n",
       "0         M1B  Scarborough                          Malvern, Rouge  43.806686   \n",
       "1         M1C  Scarborough  Rouge Hill, Port Union, Highland Creek  43.784535   \n",
       "2         M1E  Scarborough       Guildwood, Morningside, West Hill  43.763573   \n",
       "3         M1G  Scarborough                                  Woburn  43.770992   \n",
       "4         M1H  Scarborough                               Cedarbrae  43.773136   \n",
       "\n",
       "   Longitude  offices colleges schools  \n",
       "0 -79.194353        1     None    None  \n",
       "1 -79.160497        1     None    None  \n",
       "2 -79.188711        0     None    None  \n",
       "3 -79.216917        0     None    None  \n",
       "4 -79.239476        2     None    None  "
      ]
     },
     "execution_count": 153,
     "metadata": {},
     "output_type": "execute_result"
    }
   ],
   "source": [
    "# Add the list to the data frame\n",
    "Toronto_data['offices'] = office_list\n",
    "Toronto_data.head()"
   ]
  },
  {
   "cell_type": "markdown",
   "metadata": {},
   "source": [
    "#### FIND MAXIMUM NUMBER OF COLLEGS USING FOURSQUARE API"
   ]
  },
  {
   "cell_type": "code",
   "execution_count": 154,
   "metadata": {
    "scrolled": true
   },
   "outputs": [
    {
     "name": "stderr",
     "output_type": "stream",
     "text": [
      "C:\\Users\\Tejas\\anaconda3\\lib\\site-packages\\ipykernel_launcher.py:11: FutureWarning: pandas.io.json.json_normalize is deprecated, use pandas.json_normalize instead\n",
      "  # This is added back by InteractiveShellApp.init_path()\n"
     ]
    }
   ],
   "source": [
    "QUERY = 'college'\n",
    "\n",
    "for index, row in Toronto_data.iterrows():\n",
    "    LATITUDE = row['Latitude']\n",
    "    LONGITUDE = row['Longitude']\n",
    "\n",
    "    # API url\n",
    "    url = 'https://api.foursquare.com/v2/venues/search?client_id={}&client_secret={}&v={}&ll={},{}&radius={}&oauth_token={}&query={}&limit={}'.format(CLIENT_ID,CLIENT_SECRET,VERSION,LATITUDE,LONGITUDE,RADIUS,ACCESS_TOKEN,QUERY,LIMIT)\n",
    "    results = requests.get(url).json()\n",
    "    colleges = results['response']['venues']\n",
    "    temp_dataframe = json_normalize(colleges)\n",
    "    #print(temp_dataframe)\n",
    "    Number_of_colleges = temp_dataframe.shape[0]\n",
    "    #print(temp_dataframe.shape[0])\n",
    "    college_list.append(Number_of_colleges)"
   ]
  },
  {
   "cell_type": "code",
   "execution_count": 155,
   "metadata": {},
   "outputs": [
    {
     "data": {
      "text/html": [
       "<div>\n",
       "<style scoped>\n",
       "    .dataframe tbody tr th:only-of-type {\n",
       "        vertical-align: middle;\n",
       "    }\n",
       "\n",
       "    .dataframe tbody tr th {\n",
       "        vertical-align: top;\n",
       "    }\n",
       "\n",
       "    .dataframe thead th {\n",
       "        text-align: right;\n",
       "    }\n",
       "</style>\n",
       "<table border=\"1\" class=\"dataframe\">\n",
       "  <thead>\n",
       "    <tr style=\"text-align: right;\">\n",
       "      <th></th>\n",
       "      <th>Postal Code</th>\n",
       "      <th>Borough</th>\n",
       "      <th>Neighbourhood</th>\n",
       "      <th>Latitude</th>\n",
       "      <th>Longitude</th>\n",
       "      <th>offices</th>\n",
       "      <th>colleges</th>\n",
       "      <th>schools</th>\n",
       "    </tr>\n",
       "  </thead>\n",
       "  <tbody>\n",
       "    <tr>\n",
       "      <th>0</th>\n",
       "      <td>M1B</td>\n",
       "      <td>Scarborough</td>\n",
       "      <td>Malvern, Rouge</td>\n",
       "      <td>43.806686</td>\n",
       "      <td>-79.194353</td>\n",
       "      <td>1</td>\n",
       "      <td>0</td>\n",
       "      <td>None</td>\n",
       "    </tr>\n",
       "    <tr>\n",
       "      <th>1</th>\n",
       "      <td>M1C</td>\n",
       "      <td>Scarborough</td>\n",
       "      <td>Rouge Hill, Port Union, Highland Creek</td>\n",
       "      <td>43.784535</td>\n",
       "      <td>-79.160497</td>\n",
       "      <td>1</td>\n",
       "      <td>0</td>\n",
       "      <td>None</td>\n",
       "    </tr>\n",
       "    <tr>\n",
       "      <th>2</th>\n",
       "      <td>M1E</td>\n",
       "      <td>Scarborough</td>\n",
       "      <td>Guildwood, Morningside, West Hill</td>\n",
       "      <td>43.763573</td>\n",
       "      <td>-79.188711</td>\n",
       "      <td>0</td>\n",
       "      <td>0</td>\n",
       "      <td>None</td>\n",
       "    </tr>\n",
       "    <tr>\n",
       "      <th>3</th>\n",
       "      <td>M1G</td>\n",
       "      <td>Scarborough</td>\n",
       "      <td>Woburn</td>\n",
       "      <td>43.770992</td>\n",
       "      <td>-79.216917</td>\n",
       "      <td>0</td>\n",
       "      <td>0</td>\n",
       "      <td>None</td>\n",
       "    </tr>\n",
       "    <tr>\n",
       "      <th>4</th>\n",
       "      <td>M1H</td>\n",
       "      <td>Scarborough</td>\n",
       "      <td>Cedarbrae</td>\n",
       "      <td>43.773136</td>\n",
       "      <td>-79.239476</td>\n",
       "      <td>2</td>\n",
       "      <td>0</td>\n",
       "      <td>None</td>\n",
       "    </tr>\n",
       "  </tbody>\n",
       "</table>\n",
       "</div>"
      ],
      "text/plain": [
       "  Postal Code      Borough                           Neighbourhood   Latitude  \\\n",
       "0         M1B  Scarborough                          Malvern, Rouge  43.806686   \n",
       "1         M1C  Scarborough  Rouge Hill, Port Union, Highland Creek  43.784535   \n",
       "2         M1E  Scarborough       Guildwood, Morningside, West Hill  43.763573   \n",
       "3         M1G  Scarborough                                  Woburn  43.770992   \n",
       "4         M1H  Scarborough                               Cedarbrae  43.773136   \n",
       "\n",
       "   Longitude  offices  colleges schools  \n",
       "0 -79.194353        1         0    None  \n",
       "1 -79.160497        1         0    None  \n",
       "2 -79.188711        0         0    None  \n",
       "3 -79.216917        0         0    None  \n",
       "4 -79.239476        2         0    None  "
      ]
     },
     "execution_count": 155,
     "metadata": {},
     "output_type": "execute_result"
    }
   ],
   "source": [
    "Toronto_data['colleges'] = college_list\n",
    "Toronto_data.head()"
   ]
  },
  {
   "cell_type": "markdown",
   "metadata": {},
   "source": [
    "#### FIND MAXIMUM NUMBER OF SCHOOLS USING FOURSQUARE API"
   ]
  },
  {
   "cell_type": "code",
   "execution_count": 156,
   "metadata": {},
   "outputs": [
    {
     "name": "stderr",
     "output_type": "stream",
     "text": [
      "C:\\Users\\Tejas\\anaconda3\\lib\\site-packages\\ipykernel_launcher.py:11: FutureWarning: pandas.io.json.json_normalize is deprecated, use pandas.json_normalize instead\n",
      "  # This is added back by InteractiveShellApp.init_path()\n"
     ]
    }
   ],
   "source": [
    "QUERY = 'school'\n",
    "\n",
    "for index, row in Toronto_data.iterrows():\n",
    "    LATITUDE = row['Latitude']\n",
    "    LONGITUDE = row['Longitude']\n",
    "\n",
    "    # API url\n",
    "    url = 'https://api.foursquare.com/v2/venues/search?client_id={}&client_secret={}&v={}&ll={},{}&radius={}&oauth_token={}&query={}&limit={}'.format(CLIENT_ID,CLIENT_SECRET,VERSION,LATITUDE,LONGITUDE,RADIUS,ACCESS_TOKEN,QUERY,LIMIT)\n",
    "    results = requests.get(url).json()\n",
    "    schools = results['response']['venues']\n",
    "    temp_dataframe = json_normalize(schools)\n",
    "    #print(temp_dataframe)\n",
    "    Number_of_schools = temp_dataframe.shape[0]\n",
    "    #print(temp_dataframe.shape[0])\n",
    "    school_list.append(Number_of_schools)"
   ]
  },
  {
   "cell_type": "code",
   "execution_count": 157,
   "metadata": {},
   "outputs": [
    {
     "data": {
      "text/html": [
       "<div>\n",
       "<style scoped>\n",
       "    .dataframe tbody tr th:only-of-type {\n",
       "        vertical-align: middle;\n",
       "    }\n",
       "\n",
       "    .dataframe tbody tr th {\n",
       "        vertical-align: top;\n",
       "    }\n",
       "\n",
       "    .dataframe thead th {\n",
       "        text-align: right;\n",
       "    }\n",
       "</style>\n",
       "<table border=\"1\" class=\"dataframe\">\n",
       "  <thead>\n",
       "    <tr style=\"text-align: right;\">\n",
       "      <th></th>\n",
       "      <th>Postal Code</th>\n",
       "      <th>Borough</th>\n",
       "      <th>Neighbourhood</th>\n",
       "      <th>Latitude</th>\n",
       "      <th>Longitude</th>\n",
       "      <th>offices</th>\n",
       "      <th>colleges</th>\n",
       "      <th>schools</th>\n",
       "    </tr>\n",
       "  </thead>\n",
       "  <tbody>\n",
       "    <tr>\n",
       "      <th>0</th>\n",
       "      <td>M1B</td>\n",
       "      <td>Scarborough</td>\n",
       "      <td>Malvern, Rouge</td>\n",
       "      <td>43.806686</td>\n",
       "      <td>-79.194353</td>\n",
       "      <td>1</td>\n",
       "      <td>0</td>\n",
       "      <td>1</td>\n",
       "    </tr>\n",
       "    <tr>\n",
       "      <th>1</th>\n",
       "      <td>M1C</td>\n",
       "      <td>Scarborough</td>\n",
       "      <td>Rouge Hill, Port Union, Highland Creek</td>\n",
       "      <td>43.784535</td>\n",
       "      <td>-79.160497</td>\n",
       "      <td>1</td>\n",
       "      <td>0</td>\n",
       "      <td>0</td>\n",
       "    </tr>\n",
       "    <tr>\n",
       "      <th>2</th>\n",
       "      <td>M1E</td>\n",
       "      <td>Scarborough</td>\n",
       "      <td>Guildwood, Morningside, West Hill</td>\n",
       "      <td>43.763573</td>\n",
       "      <td>-79.188711</td>\n",
       "      <td>0</td>\n",
       "      <td>0</td>\n",
       "      <td>2</td>\n",
       "    </tr>\n",
       "    <tr>\n",
       "      <th>3</th>\n",
       "      <td>M1G</td>\n",
       "      <td>Scarborough</td>\n",
       "      <td>Woburn</td>\n",
       "      <td>43.770992</td>\n",
       "      <td>-79.216917</td>\n",
       "      <td>0</td>\n",
       "      <td>0</td>\n",
       "      <td>1</td>\n",
       "    </tr>\n",
       "    <tr>\n",
       "      <th>4</th>\n",
       "      <td>M1H</td>\n",
       "      <td>Scarborough</td>\n",
       "      <td>Cedarbrae</td>\n",
       "      <td>43.773136</td>\n",
       "      <td>-79.239476</td>\n",
       "      <td>2</td>\n",
       "      <td>0</td>\n",
       "      <td>1</td>\n",
       "    </tr>\n",
       "  </tbody>\n",
       "</table>\n",
       "</div>"
      ],
      "text/plain": [
       "  Postal Code      Borough                           Neighbourhood   Latitude  \\\n",
       "0         M1B  Scarborough                          Malvern, Rouge  43.806686   \n",
       "1         M1C  Scarborough  Rouge Hill, Port Union, Highland Creek  43.784535   \n",
       "2         M1E  Scarborough       Guildwood, Morningside, West Hill  43.763573   \n",
       "3         M1G  Scarborough                                  Woburn  43.770992   \n",
       "4         M1H  Scarborough                               Cedarbrae  43.773136   \n",
       "\n",
       "   Longitude  offices  colleges  schools  \n",
       "0 -79.194353        1         0        1  \n",
       "1 -79.160497        1         0        0  \n",
       "2 -79.188711        0         0        2  \n",
       "3 -79.216917        0         0        1  \n",
       "4 -79.239476        2         0        1  "
      ]
     },
     "execution_count": 157,
     "metadata": {},
     "output_type": "execute_result"
    }
   ],
   "source": [
    "Toronto_data['schools'] = school_list\n",
    "Toronto_data.head()"
   ]
  },
  {
   "cell_type": "markdown",
   "metadata": {},
   "source": [
    "#### ARRINGING THE DATASET WITH RESPECT TO MAXIMUM NUMBER OF OFFICES, COLLEGES AND SCHOOLS"
   ]
  },
  {
   "cell_type": "code",
   "execution_count": 158,
   "metadata": {
    "scrolled": true
   },
   "outputs": [
    {
     "data": {
      "text/html": [
       "<div>\n",
       "<style scoped>\n",
       "    .dataframe tbody tr th:only-of-type {\n",
       "        vertical-align: middle;\n",
       "    }\n",
       "\n",
       "    .dataframe tbody tr th {\n",
       "        vertical-align: top;\n",
       "    }\n",
       "\n",
       "    .dataframe thead th {\n",
       "        text-align: right;\n",
       "    }\n",
       "</style>\n",
       "<table border=\"1\" class=\"dataframe\">\n",
       "  <thead>\n",
       "    <tr style=\"text-align: right;\">\n",
       "      <th></th>\n",
       "      <th>Postal Code</th>\n",
       "      <th>Borough</th>\n",
       "      <th>Neighbourhood</th>\n",
       "      <th>Latitude</th>\n",
       "      <th>Longitude</th>\n",
       "      <th>offices</th>\n",
       "      <th>colleges</th>\n",
       "      <th>schools</th>\n",
       "      <th>sum</th>\n",
       "    </tr>\n",
       "  </thead>\n",
       "  <tbody>\n",
       "    <tr>\n",
       "      <th>0</th>\n",
       "      <td>M1B</td>\n",
       "      <td>Scarborough</td>\n",
       "      <td>Malvern, Rouge</td>\n",
       "      <td>43.806686</td>\n",
       "      <td>-79.194353</td>\n",
       "      <td>1</td>\n",
       "      <td>0</td>\n",
       "      <td>1</td>\n",
       "      <td>2</td>\n",
       "    </tr>\n",
       "    <tr>\n",
       "      <th>1</th>\n",
       "      <td>M1C</td>\n",
       "      <td>Scarborough</td>\n",
       "      <td>Rouge Hill, Port Union, Highland Creek</td>\n",
       "      <td>43.784535</td>\n",
       "      <td>-79.160497</td>\n",
       "      <td>1</td>\n",
       "      <td>0</td>\n",
       "      <td>0</td>\n",
       "      <td>1</td>\n",
       "    </tr>\n",
       "    <tr>\n",
       "      <th>2</th>\n",
       "      <td>M1E</td>\n",
       "      <td>Scarborough</td>\n",
       "      <td>Guildwood, Morningside, West Hill</td>\n",
       "      <td>43.763573</td>\n",
       "      <td>-79.188711</td>\n",
       "      <td>0</td>\n",
       "      <td>0</td>\n",
       "      <td>2</td>\n",
       "      <td>2</td>\n",
       "    </tr>\n",
       "    <tr>\n",
       "      <th>3</th>\n",
       "      <td>M1G</td>\n",
       "      <td>Scarborough</td>\n",
       "      <td>Woburn</td>\n",
       "      <td>43.770992</td>\n",
       "      <td>-79.216917</td>\n",
       "      <td>0</td>\n",
       "      <td>0</td>\n",
       "      <td>1</td>\n",
       "      <td>1</td>\n",
       "    </tr>\n",
       "    <tr>\n",
       "      <th>4</th>\n",
       "      <td>M1H</td>\n",
       "      <td>Scarborough</td>\n",
       "      <td>Cedarbrae</td>\n",
       "      <td>43.773136</td>\n",
       "      <td>-79.239476</td>\n",
       "      <td>2</td>\n",
       "      <td>0</td>\n",
       "      <td>1</td>\n",
       "      <td>3</td>\n",
       "    </tr>\n",
       "  </tbody>\n",
       "</table>\n",
       "</div>"
      ],
      "text/plain": [
       "  Postal Code      Borough                           Neighbourhood   Latitude  \\\n",
       "0         M1B  Scarborough                          Malvern, Rouge  43.806686   \n",
       "1         M1C  Scarborough  Rouge Hill, Port Union, Highland Creek  43.784535   \n",
       "2         M1E  Scarborough       Guildwood, Morningside, West Hill  43.763573   \n",
       "3         M1G  Scarborough                                  Woburn  43.770992   \n",
       "4         M1H  Scarborough                               Cedarbrae  43.773136   \n",
       "\n",
       "   Longitude  offices  colleges  schools  sum  \n",
       "0 -79.194353        1         0        1    2  \n",
       "1 -79.160497        1         0        0    1  \n",
       "2 -79.188711        0         0        2    2  \n",
       "3 -79.216917        0         0        1    1  \n",
       "4 -79.239476        2         0        1    3  "
      ]
     },
     "execution_count": 158,
     "metadata": {},
     "output_type": "execute_result"
    }
   ],
   "source": [
    "Toronto_data['sum'] = Toronto_data['offices'] + Toronto_data['colleges'] + Toronto_data['schools']\n",
    "Toronto_data.head()"
   ]
  },
  {
   "cell_type": "code",
   "execution_count": 159,
   "metadata": {},
   "outputs": [
    {
     "data": {
      "text/html": [
       "<div>\n",
       "<style scoped>\n",
       "    .dataframe tbody tr th:only-of-type {\n",
       "        vertical-align: middle;\n",
       "    }\n",
       "\n",
       "    .dataframe tbody tr th {\n",
       "        vertical-align: top;\n",
       "    }\n",
       "\n",
       "    .dataframe thead th {\n",
       "        text-align: right;\n",
       "    }\n",
       "</style>\n",
       "<table border=\"1\" class=\"dataframe\">\n",
       "  <thead>\n",
       "    <tr style=\"text-align: right;\">\n",
       "      <th></th>\n",
       "      <th>Postal Code</th>\n",
       "      <th>Borough</th>\n",
       "      <th>Neighbourhood</th>\n",
       "      <th>Latitude</th>\n",
       "      <th>Longitude</th>\n",
       "      <th>offices</th>\n",
       "      <th>colleges</th>\n",
       "      <th>schools</th>\n",
       "      <th>sum</th>\n",
       "    </tr>\n",
       "  </thead>\n",
       "  <tbody>\n",
       "    <tr>\n",
       "      <th>54</th>\n",
       "      <td>M5B</td>\n",
       "      <td>Downtown Toronto</td>\n",
       "      <td>Garden District, Ryerson</td>\n",
       "      <td>43.657162</td>\n",
       "      <td>-79.378937</td>\n",
       "      <td>50</td>\n",
       "      <td>50</td>\n",
       "      <td>27</td>\n",
       "      <td>127</td>\n",
       "    </tr>\n",
       "    <tr>\n",
       "      <th>57</th>\n",
       "      <td>M5G</td>\n",
       "      <td>Downtown Toronto</td>\n",
       "      <td>Central Bay Street</td>\n",
       "      <td>43.657952</td>\n",
       "      <td>-79.387383</td>\n",
       "      <td>50</td>\n",
       "      <td>50</td>\n",
       "      <td>23</td>\n",
       "      <td>123</td>\n",
       "    </tr>\n",
       "    <tr>\n",
       "      <th>52</th>\n",
       "      <td>M4Y</td>\n",
       "      <td>Downtown Toronto</td>\n",
       "      <td>Church and Wellesley</td>\n",
       "      <td>43.665860</td>\n",
       "      <td>-79.383160</td>\n",
       "      <td>47</td>\n",
       "      <td>46</td>\n",
       "      <td>10</td>\n",
       "      <td>103</td>\n",
       "    </tr>\n",
       "    <tr>\n",
       "      <th>85</th>\n",
       "      <td>M7A</td>\n",
       "      <td>Downtown Toronto</td>\n",
       "      <td>Queen's Park, Ontario Provincial Government</td>\n",
       "      <td>43.662301</td>\n",
       "      <td>-79.389494</td>\n",
       "      <td>28</td>\n",
       "      <td>50</td>\n",
       "      <td>10</td>\n",
       "      <td>88</td>\n",
       "    </tr>\n",
       "    <tr>\n",
       "      <th>66</th>\n",
       "      <td>M5S</td>\n",
       "      <td>Downtown Toronto</td>\n",
       "      <td>University of Toronto, Harbord</td>\n",
       "      <td>43.662696</td>\n",
       "      <td>-79.400049</td>\n",
       "      <td>23</td>\n",
       "      <td>50</td>\n",
       "      <td>13</td>\n",
       "      <td>86</td>\n",
       "    </tr>\n",
       "  </tbody>\n",
       "</table>\n",
       "</div>"
      ],
      "text/plain": [
       "   Postal Code           Borough                                Neighbourhood  \\\n",
       "54         M5B  Downtown Toronto                     Garden District, Ryerson   \n",
       "57         M5G  Downtown Toronto                           Central Bay Street   \n",
       "52         M4Y  Downtown Toronto                         Church and Wellesley   \n",
       "85         M7A  Downtown Toronto  Queen's Park, Ontario Provincial Government   \n",
       "66         M5S  Downtown Toronto               University of Toronto, Harbord   \n",
       "\n",
       "     Latitude  Longitude  offices  colleges  schools  sum  \n",
       "54  43.657162 -79.378937       50        50       27  127  \n",
       "57  43.657952 -79.387383       50        50       23  123  \n",
       "52  43.665860 -79.383160       47        46       10  103  \n",
       "85  43.662301 -79.389494       28        50       10   88  \n",
       "66  43.662696 -79.400049       23        50       13   86  "
      ]
     },
     "execution_count": 159,
     "metadata": {},
     "output_type": "execute_result"
    }
   ],
   "source": [
    "arranged_Toronto = Toronto_data.sort_values('sum', ascending = False)\n",
    "arranged_Toronto.head()"
   ]
  },
  {
   "cell_type": "markdown",
   "metadata": {},
   "source": [
    "#### WE SELECT THE TOP 3 RESULTS FOR FURTHER ANALYSIS"
   ]
  },
  {
   "cell_type": "code",
   "execution_count": 160,
   "metadata": {},
   "outputs": [
    {
     "data": {
      "text/html": [
       "<div>\n",
       "<style scoped>\n",
       "    .dataframe tbody tr th:only-of-type {\n",
       "        vertical-align: middle;\n",
       "    }\n",
       "\n",
       "    .dataframe tbody tr th {\n",
       "        vertical-align: top;\n",
       "    }\n",
       "\n",
       "    .dataframe thead th {\n",
       "        text-align: right;\n",
       "    }\n",
       "</style>\n",
       "<table border=\"1\" class=\"dataframe\">\n",
       "  <thead>\n",
       "    <tr style=\"text-align: right;\">\n",
       "      <th></th>\n",
       "      <th>Postal Code</th>\n",
       "      <th>Borough</th>\n",
       "      <th>Neighbourhood</th>\n",
       "      <th>Latitude</th>\n",
       "      <th>Longitude</th>\n",
       "      <th>offices</th>\n",
       "      <th>colleges</th>\n",
       "      <th>schools</th>\n",
       "      <th>sum</th>\n",
       "    </tr>\n",
       "  </thead>\n",
       "  <tbody>\n",
       "    <tr>\n",
       "      <th>54</th>\n",
       "      <td>M5B</td>\n",
       "      <td>Downtown Toronto</td>\n",
       "      <td>Garden District, Ryerson</td>\n",
       "      <td>43.657162</td>\n",
       "      <td>-79.378937</td>\n",
       "      <td>50</td>\n",
       "      <td>50</td>\n",
       "      <td>27</td>\n",
       "      <td>127</td>\n",
       "    </tr>\n",
       "    <tr>\n",
       "      <th>57</th>\n",
       "      <td>M5G</td>\n",
       "      <td>Downtown Toronto</td>\n",
       "      <td>Central Bay Street</td>\n",
       "      <td>43.657952</td>\n",
       "      <td>-79.387383</td>\n",
       "      <td>50</td>\n",
       "      <td>50</td>\n",
       "      <td>23</td>\n",
       "      <td>123</td>\n",
       "    </tr>\n",
       "    <tr>\n",
       "      <th>52</th>\n",
       "      <td>M4Y</td>\n",
       "      <td>Downtown Toronto</td>\n",
       "      <td>Church and Wellesley</td>\n",
       "      <td>43.665860</td>\n",
       "      <td>-79.383160</td>\n",
       "      <td>47</td>\n",
       "      <td>46</td>\n",
       "      <td>10</td>\n",
       "      <td>103</td>\n",
       "    </tr>\n",
       "  </tbody>\n",
       "</table>\n",
       "</div>"
      ],
      "text/plain": [
       "   Postal Code           Borough             Neighbourhood   Latitude  \\\n",
       "54         M5B  Downtown Toronto  Garden District, Ryerson  43.657162   \n",
       "57         M5G  Downtown Toronto        Central Bay Street  43.657952   \n",
       "52         M4Y  Downtown Toronto      Church and Wellesley  43.665860   \n",
       "\n",
       "    Longitude  offices  colleges  schools  sum  \n",
       "54 -79.378937       50        50       27  127  \n",
       "57 -79.387383       50        50       23  123  \n",
       "52 -79.383160       47        46       10  103  "
      ]
     },
     "execution_count": 160,
     "metadata": {},
     "output_type": "execute_result"
    }
   ],
   "source": [
    "trimmed_Toronto = arranged_Toronto.head(3)\n",
    "trimmed_Toronto.head()"
   ]
  },
  {
   "cell_type": "markdown",
   "metadata": {},
   "source": [
    "#### FOR THESE LOCATIONS WE WILL CHECK WHICH LOCATION HAS THE LEAST NUMBER OF COFFEE SHOPS"
   ]
  },
  {
   "cell_type": "code",
   "execution_count": 161,
   "metadata": {},
   "outputs": [
    {
     "name": "stderr",
     "output_type": "stream",
     "text": [
      "C:\\Users\\Tejas\\anaconda3\\lib\\site-packages\\ipykernel_launcher.py:12: FutureWarning: pandas.io.json.json_normalize is deprecated, use pandas.json_normalize instead\n",
      "  if sys.path[0] == '':\n"
     ]
    },
    {
     "name": "stdout",
     "output_type": "stream",
     "text": [
      "30\n",
      "32\n",
      "11\n"
     ]
    }
   ],
   "source": [
    "QUERY = 'coffee'\n",
    "coffee_list = []\n",
    "\n",
    "for index, row in trimmed_Toronto.iterrows():\n",
    "    LATITUDE = row['Latitude']\n",
    "    LONGITUDE = row['Longitude']\n",
    "\n",
    "    # API url\n",
    "    url = 'https://api.foursquare.com/v2/venues/search?client_id={}&client_secret={}&v={}&ll={},{}&radius={}&oauth_token={}&query={}&limit={}'.format(CLIENT_ID,CLIENT_SECRET,VERSION,LATITUDE,LONGITUDE,RADIUS,ACCESS_TOKEN,QUERY,LIMIT)\n",
    "    results = requests.get(url).json()\n",
    "    coffee = results['response']['venues']\n",
    "    temp_dataframe = json_normalize(coffee)\n",
    "    #print(temp_dataframe)\n",
    "    Number_of_coffee = temp_dataframe.shape[0]\n",
    "    print(temp_dataframe.shape[0])\n",
    "    coffee_list.append(Number_of_coffee)"
   ]
  },
  {
   "cell_type": "markdown",
   "metadata": {},
   "source": [
    "#### AS WE CAN SEE, THE THIRD LOCATION HAS COMPARATIVELY LESS COFFEE SHOPS AND TOTAL 103 OFFICEC, COLLEGES AND SCHOOLS."
   ]
  },
  {
   "cell_type": "markdown",
   "metadata": {},
   "source": [
    "   #### LOOK FOR TRENDING PLACES IN THE NEIGHBORHOOD"
   ]
  },
  {
   "cell_type": "code",
   "execution_count": 162,
   "metadata": {},
   "outputs": [
    {
     "data": {
      "text/plain": [
       "{'meta': {'code': 200, 'requestId': '5fd114c794a8241c14989030'},\n",
       " 'response': {'venues': []}}"
      ]
     },
     "execution_count": 162,
     "metadata": {},
     "output_type": "execute_result"
    }
   ],
   "source": [
    "# define URL\n",
    "url = 'https://api.foursquare.com/v2/venues/trending?client_id={}&client_secret={}&ll={},{}&v={}'.format(CLIENT_ID, CLIENT_SECRET, LATITUDE, LONGITUDE, VERSION)\n",
    "\n",
    "# send GET request and get trending venues\n",
    "results = requests.get(url).json()\n",
    "results"
   ]
  },
  {
   "cell_type": "code",
   "execution_count": 163,
   "metadata": {},
   "outputs": [],
   "source": [
    "if len(results['response']['venues']) == 0:\n",
    "    trending_venues_df = None\n",
    "    \n",
    "else:\n",
    "    trending_venues = results['response']['venues']\n",
    "    trending_venues_df = json_normalize(trending_venues)\n",
    "\n",
    "    # Filter columns\n",
    "    columns_filtered = ['name', 'categories'] + ['location.distance', 'location.city', 'location.postalCode', 'location.state', 'location.country', 'location.lat', 'location.lng']\n",
    "    trending_venues_df = trending_venues_df.loc[:, columns_filtered]"
   ]
  },
  {
   "cell_type": "code",
   "execution_count": 164,
   "metadata": {},
   "outputs": [],
   "source": [
    "# Display trending values\n",
    "trending_venues_df"
   ]
  },
  {
   "cell_type": "markdown",
   "metadata": {},
   "source": [
    "#### GET COORDINATES OF OFFICES IN THE NEIGHBORHOOD"
   ]
  },
  {
   "cell_type": "code",
   "execution_count": 165,
   "metadata": {},
   "outputs": [
    {
     "name": "stdout",
     "output_type": "stream",
     "text": [
      "47\n"
     ]
    },
    {
     "name": "stderr",
     "output_type": "stream",
     "text": [
      "C:\\Users\\Tejas\\anaconda3\\lib\\site-packages\\ipykernel_launcher.py:21: FutureWarning: pandas.io.json.json_normalize is deprecated, use pandas.json_normalize instead\n"
     ]
    },
    {
     "data": {
      "text/html": [
       "<div>\n",
       "<style scoped>\n",
       "    .dataframe tbody tr th:only-of-type {\n",
       "        vertical-align: middle;\n",
       "    }\n",
       "\n",
       "    .dataframe tbody tr th {\n",
       "        vertical-align: top;\n",
       "    }\n",
       "\n",
       "    .dataframe thead th {\n",
       "        text-align: right;\n",
       "    }\n",
       "</style>\n",
       "<table border=\"1\" class=\"dataframe\">\n",
       "  <thead>\n",
       "    <tr style=\"text-align: right;\">\n",
       "      <th></th>\n",
       "      <th>name</th>\n",
       "      <th>location.lat</th>\n",
       "      <th>location.lng</th>\n",
       "    </tr>\n",
       "  </thead>\n",
       "  <tbody>\n",
       "    <tr>\n",
       "      <th>0</th>\n",
       "      <td>Angela's Office, 11th floor OMP</td>\n",
       "      <td>43.670198</td>\n",
       "      <td>-79.379034</td>\n",
       "    </tr>\n",
       "    <tr>\n",
       "      <th>1</th>\n",
       "      <td>Martina's Office - BBDO</td>\n",
       "      <td>43.670275</td>\n",
       "      <td>-79.387297</td>\n",
       "    </tr>\n",
       "    <tr>\n",
       "      <th>2</th>\n",
       "      <td>CUPE 2191 Office</td>\n",
       "      <td>43.662360</td>\n",
       "      <td>-79.381737</td>\n",
       "    </tr>\n",
       "    <tr>\n",
       "      <th>3</th>\n",
       "      <td>Le Office</td>\n",
       "      <td>43.669748</td>\n",
       "      <td>-79.380067</td>\n",
       "    </tr>\n",
       "    <tr>\n",
       "      <th>4</th>\n",
       "      <td>Ken Chan Campaign Office</td>\n",
       "      <td>43.663729</td>\n",
       "      <td>-79.383380</td>\n",
       "    </tr>\n",
       "  </tbody>\n",
       "</table>\n",
       "</div>"
      ],
      "text/plain": [
       "                              name  location.lat  location.lng\n",
       "0  Angela's Office, 11th floor OMP     43.670198    -79.379034\n",
       "1          Martina's Office - BBDO     43.670275    -79.387297\n",
       "2                 CUPE 2191 Office     43.662360    -79.381737\n",
       "3                        Le Office     43.669748    -79.380067\n",
       "4         Ken Chan Campaign Office     43.663729    -79.383380"
      ]
     },
     "execution_count": 165,
     "metadata": {},
     "output_type": "execute_result"
    }
   ],
   "source": [
    "# coordinates of the neighborhood\n",
    "LATITUDE = trimmed_Toronto.at[52, 'Latitude']\n",
    "LONGITUDE = trimmed_Toronto.at[52, 'Longitude']\n",
    "\n",
    "# query to search for\n",
    "QUERY = 'office'\n",
    "\n",
    "# new lists\n",
    "target_office_list = []\n",
    "target_college_list = []\n",
    "target_school_list = []\n",
    "\n",
    "#for index, row in Toronto_data.iterrows():\n",
    "#    LATITUDE = row['Latitude']\n",
    "#    LONGITUDE = row['Longitude']\n",
    "\n",
    "# API url\n",
    "url = 'https://api.foursquare.com/v2/venues/search?client_id={}&client_secret={}&v={}&ll={},{}&radius={}&oauth_token={}&query={}&limit={}'.format(CLIENT_ID,CLIENT_SECRET,VERSION,LATITUDE,LONGITUDE,RADIUS,ACCESS_TOKEN,QUERY,LIMIT)\n",
    "results = requests.get(url).json()\n",
    "offices = results['response']['venues']\n",
    "temp_dataframe = json_normalize(offices)\n",
    "temp_dataframe = temp_dataframe[['name', 'location.lat', 'location.lng']]\n",
    "office_data = temp_dataframe\n",
    "print(office_data.shape[0])\n",
    "office_data.head()"
   ]
  },
  {
   "cell_type": "code",
   "execution_count": 166,
   "metadata": {},
   "outputs": [
    {
     "data": {
      "text/plain": [
       "47"
      ]
     },
     "execution_count": 166,
     "metadata": {},
     "output_type": "execute_result"
    }
   ],
   "source": [
    "# make a list of lists of offices\n",
    "for index, row in office_data.iterrows():\n",
    "    lat = row['location.lat']\n",
    "    #print(lat)\n",
    "    lng = row['location.lng']\n",
    "    #print(lng)\n",
    "    #temp_target_office_list.append([lat, lng])\n",
    "    target_office_list.append([lat, lng])\n",
    "len(target_office_list)"
   ]
  },
  {
   "cell_type": "markdown",
   "metadata": {},
   "source": [
    "#### GET COORDINATES OF COLLEGES IN THE NEIGHBORHOOD"
   ]
  },
  {
   "cell_type": "code",
   "execution_count": 167,
   "metadata": {},
   "outputs": [
    {
     "name": "stdout",
     "output_type": "stream",
     "text": [
      "46\n"
     ]
    },
    {
     "name": "stderr",
     "output_type": "stream",
     "text": [
      "C:\\Users\\Tejas\\anaconda3\\lib\\site-packages\\ipykernel_launcher.py:8: FutureWarning: pandas.io.json.json_normalize is deprecated, use pandas.json_normalize instead\n",
      "  \n"
     ]
    },
    {
     "data": {
      "text/html": [
       "<div>\n",
       "<style scoped>\n",
       "    .dataframe tbody tr th:only-of-type {\n",
       "        vertical-align: middle;\n",
       "    }\n",
       "\n",
       "    .dataframe tbody tr th {\n",
       "        vertical-align: top;\n",
       "    }\n",
       "\n",
       "    .dataframe thead th {\n",
       "        text-align: right;\n",
       "    }\n",
       "</style>\n",
       "<table border=\"1\" class=\"dataframe\">\n",
       "  <thead>\n",
       "    <tr style=\"text-align: right;\">\n",
       "      <th></th>\n",
       "      <th>name</th>\n",
       "      <th>location.lat</th>\n",
       "      <th>location.lng</th>\n",
       "    </tr>\n",
       "  </thead>\n",
       "  <tbody>\n",
       "    <tr>\n",
       "      <th>0</th>\n",
       "      <td>College Park</td>\n",
       "      <td>43.661237</td>\n",
       "      <td>-79.383603</td>\n",
       "    </tr>\n",
       "    <tr>\n",
       "      <th>1</th>\n",
       "      <td>College Subway Station</td>\n",
       "      <td>43.661311</td>\n",
       "      <td>-79.382819</td>\n",
       "    </tr>\n",
       "    <tr>\n",
       "      <th>2</th>\n",
       "      <td>Yonge &amp; College</td>\n",
       "      <td>43.661371</td>\n",
       "      <td>-79.383184</td>\n",
       "    </tr>\n",
       "    <tr>\n",
       "      <th>3</th>\n",
       "      <td>TTC Streetcar #506 College</td>\n",
       "      <td>43.664858</td>\n",
       "      <td>-79.377675</td>\n",
       "    </tr>\n",
       "    <tr>\n",
       "      <th>4</th>\n",
       "      <td>College Cleaners</td>\n",
       "      <td>43.662731</td>\n",
       "      <td>-79.381139</td>\n",
       "    </tr>\n",
       "  </tbody>\n",
       "</table>\n",
       "</div>"
      ],
      "text/plain": [
       "                         name  location.lat  location.lng\n",
       "0                College Park     43.661237    -79.383603\n",
       "1      College Subway Station     43.661311    -79.382819\n",
       "2             Yonge & College     43.661371    -79.383184\n",
       "3  TTC Streetcar #506 College     43.664858    -79.377675\n",
       "4            College Cleaners     43.662731    -79.381139"
      ]
     },
     "execution_count": 167,
     "metadata": {},
     "output_type": "execute_result"
    }
   ],
   "source": [
    "# query to search for\n",
    "QUERY = 'college'\n",
    "\n",
    "# API url\n",
    "url = 'https://api.foursquare.com/v2/venues/search?client_id={}&client_secret={}&v={}&ll={},{}&radius={}&oauth_token={}&query={}&limit={}'.format(CLIENT_ID,CLIENT_SECRET,VERSION,LATITUDE,LONGITUDE,RADIUS,ACCESS_TOKEN,QUERY,LIMIT)\n",
    "results = requests.get(url).json()\n",
    "colleges = results['response']['venues']\n",
    "temp_dataframe = json_normalize(colleges)\n",
    "temp_dataframe = temp_dataframe[['name', 'location.lat', 'location.lng']]\n",
    "college_data = temp_dataframe\n",
    "print(college_data.shape[0])\n",
    "college_data.head()"
   ]
  },
  {
   "cell_type": "code",
   "execution_count": 168,
   "metadata": {},
   "outputs": [
    {
     "data": {
      "text/plain": [
       "46"
      ]
     },
     "execution_count": 168,
     "metadata": {},
     "output_type": "execute_result"
    }
   ],
   "source": [
    "# make a list of lists of colleges\n",
    "for index, row in college_data.iterrows():\n",
    "    lat = row['location.lat']\n",
    "    lng = row['location.lng']\n",
    "    target_college_list.append([lat, lng])\n",
    "len(target_college_list)"
   ]
  },
  {
   "cell_type": "markdown",
   "metadata": {},
   "source": [
    "#### GET COORDINATES OF SCHOOLS IN THE NEIGHBORHOOD"
   ]
  },
  {
   "cell_type": "code",
   "execution_count": 169,
   "metadata": {},
   "outputs": [
    {
     "name": "stdout",
     "output_type": "stream",
     "text": [
      "10\n"
     ]
    },
    {
     "name": "stderr",
     "output_type": "stream",
     "text": [
      "C:\\Users\\Tejas\\anaconda3\\lib\\site-packages\\ipykernel_launcher.py:8: FutureWarning: pandas.io.json.json_normalize is deprecated, use pandas.json_normalize instead\n",
      "  \n"
     ]
    },
    {
     "data": {
      "text/html": [
       "<div>\n",
       "<style scoped>\n",
       "    .dataframe tbody tr th:only-of-type {\n",
       "        vertical-align: middle;\n",
       "    }\n",
       "\n",
       "    .dataframe tbody tr th {\n",
       "        vertical-align: top;\n",
       "    }\n",
       "\n",
       "    .dataframe thead th {\n",
       "        text-align: right;\n",
       "    }\n",
       "</style>\n",
       "<table border=\"1\" class=\"dataframe\">\n",
       "  <thead>\n",
       "    <tr style=\"text-align: right;\">\n",
       "      <th></th>\n",
       "      <th>name</th>\n",
       "      <th>location.lat</th>\n",
       "      <th>location.lng</th>\n",
       "    </tr>\n",
       "  </thead>\n",
       "  <tbody>\n",
       "    <tr>\n",
       "      <th>0</th>\n",
       "      <td>Church St junior Public School</td>\n",
       "      <td>43.663915</td>\n",
       "      <td>-79.379760</td>\n",
       "    </tr>\n",
       "    <tr>\n",
       "      <th>1</th>\n",
       "      <td>St Josephs College Secondary School</td>\n",
       "      <td>43.664259</td>\n",
       "      <td>-79.388681</td>\n",
       "    </tr>\n",
       "    <tr>\n",
       "      <th>2</th>\n",
       "      <td>Church Street Junior Public School</td>\n",
       "      <td>43.663483</td>\n",
       "      <td>-79.379778</td>\n",
       "    </tr>\n",
       "    <tr>\n",
       "      <th>3</th>\n",
       "      <td>Sol School</td>\n",
       "      <td>43.664743</td>\n",
       "      <td>-79.377530</td>\n",
       "    </tr>\n",
       "    <tr>\n",
       "      <th>4</th>\n",
       "      <td>Church Street Public School</td>\n",
       "      <td>43.663703</td>\n",
       "      <td>-79.380324</td>\n",
       "    </tr>\n",
       "  </tbody>\n",
       "</table>\n",
       "</div>"
      ],
      "text/plain": [
       "                                  name  location.lat  location.lng\n",
       "0       Church St junior Public School     43.663915    -79.379760\n",
       "1  St Josephs College Secondary School     43.664259    -79.388681\n",
       "2   Church Street Junior Public School     43.663483    -79.379778\n",
       "3                           Sol School     43.664743    -79.377530\n",
       "4          Church Street Public School     43.663703    -79.380324"
      ]
     },
     "execution_count": 169,
     "metadata": {},
     "output_type": "execute_result"
    }
   ],
   "source": [
    "# query to search for\n",
    "QUERY = 'school'\n",
    "\n",
    "# API url\n",
    "url = 'https://api.foursquare.com/v2/venues/search?client_id={}&client_secret={}&v={}&ll={},{}&radius={}&oauth_token={}&query={}&limit={}'.format(CLIENT_ID,CLIENT_SECRET,VERSION,LATITUDE,LONGITUDE,RADIUS,ACCESS_TOKEN,QUERY,LIMIT)\n",
    "results = requests.get(url).json()\n",
    "schools = results['response']['venues']\n",
    "temp_dataframe = json_normalize(schools)\n",
    "temp_dataframe = temp_dataframe[['name', 'location.lat', 'location.lng']]\n",
    "school_data = temp_dataframe\n",
    "print(school_data.shape[0])\n",
    "school_data.head()"
   ]
  },
  {
   "cell_type": "code",
   "execution_count": 170,
   "metadata": {},
   "outputs": [
    {
     "data": {
      "text/plain": [
       "10"
      ]
     },
     "execution_count": 170,
     "metadata": {},
     "output_type": "execute_result"
    }
   ],
   "source": [
    "# make a list of lists of schools\n",
    "for index, row in school_data.iterrows():\n",
    "    lat = row['location.lat']\n",
    "    lng = row['location.lng']\n",
    "    target_school_list.append([lat, lng])\n",
    "len(target_school_list)"
   ]
  },
  {
   "cell_type": "markdown",
   "metadata": {},
   "source": [
    "#### COMBINING THE OFFICE, COLLEGE AND SCHOOL DATAFRAME"
   ]
  },
  {
   "cell_type": "code",
   "execution_count": 171,
   "metadata": {},
   "outputs": [],
   "source": [
    "temp1 = office_data.append(college_data)\n",
    "combine_data = temp1.append(school_data)\n",
    "\n",
    "# Make new column for cluster\n",
    "combine_data['cluster'] = None"
   ]
  },
  {
   "cell_type": "code",
   "execution_count": 172,
   "metadata": {},
   "outputs": [
    {
     "name": "stdout",
     "output_type": "stream",
     "text": [
      "103\n"
     ]
    },
    {
     "data": {
      "text/html": [
       "<div>\n",
       "<style scoped>\n",
       "    .dataframe tbody tr th:only-of-type {\n",
       "        vertical-align: middle;\n",
       "    }\n",
       "\n",
       "    .dataframe tbody tr th {\n",
       "        vertical-align: top;\n",
       "    }\n",
       "\n",
       "    .dataframe thead th {\n",
       "        text-align: right;\n",
       "    }\n",
       "</style>\n",
       "<table border=\"1\" class=\"dataframe\">\n",
       "  <thead>\n",
       "    <tr style=\"text-align: right;\">\n",
       "      <th></th>\n",
       "      <th>name</th>\n",
       "      <th>location.lat</th>\n",
       "      <th>location.lng</th>\n",
       "      <th>cluster</th>\n",
       "    </tr>\n",
       "  </thead>\n",
       "  <tbody>\n",
       "    <tr>\n",
       "      <th>0</th>\n",
       "      <td>Angela's Office, 11th floor OMP</td>\n",
       "      <td>43.670198</td>\n",
       "      <td>-79.379034</td>\n",
       "      <td>None</td>\n",
       "    </tr>\n",
       "    <tr>\n",
       "      <th>1</th>\n",
       "      <td>Martina's Office - BBDO</td>\n",
       "      <td>43.670275</td>\n",
       "      <td>-79.387297</td>\n",
       "      <td>None</td>\n",
       "    </tr>\n",
       "    <tr>\n",
       "      <th>2</th>\n",
       "      <td>CUPE 2191 Office</td>\n",
       "      <td>43.662360</td>\n",
       "      <td>-79.381737</td>\n",
       "      <td>None</td>\n",
       "    </tr>\n",
       "    <tr>\n",
       "      <th>3</th>\n",
       "      <td>Le Office</td>\n",
       "      <td>43.669748</td>\n",
       "      <td>-79.380067</td>\n",
       "      <td>None</td>\n",
       "    </tr>\n",
       "    <tr>\n",
       "      <th>4</th>\n",
       "      <td>Ken Chan Campaign Office</td>\n",
       "      <td>43.663729</td>\n",
       "      <td>-79.383380</td>\n",
       "      <td>None</td>\n",
       "    </tr>\n",
       "  </tbody>\n",
       "</table>\n",
       "</div>"
      ],
      "text/plain": [
       "                              name  location.lat  location.lng cluster\n",
       "0  Angela's Office, 11th floor OMP     43.670198    -79.379034    None\n",
       "1          Martina's Office - BBDO     43.670275    -79.387297    None\n",
       "2                 CUPE 2191 Office     43.662360    -79.381737    None\n",
       "3                        Le Office     43.669748    -79.380067    None\n",
       "4         Ken Chan Campaign Office     43.663729    -79.383380    None"
      ]
     },
     "execution_count": 172,
     "metadata": {},
     "output_type": "execute_result"
    }
   ],
   "source": [
    "#look at combine data\n",
    "print(combine_data.shape[0])\n",
    "combine_data.head()"
   ]
  },
  {
   "cell_type": "markdown",
   "metadata": {},
   "source": [
    "#### COMBINE THE LIST OF COORDINATES TO PREPARE FOR CLUSTERING"
   ]
  },
  {
   "cell_type": "code",
   "execution_count": 173,
   "metadata": {},
   "outputs": [],
   "source": [
    "# Adding college list of office list\n",
    "for value in target_college_list:\n",
    "    target_office_list.append(value)\n",
    "\n",
    "# Adding school list to office list\n",
    "for value in target_school_list:\n",
    "    target_office_list.append(value)\n",
    "    \n",
    "#target_office_list"
   ]
  },
  {
   "cell_type": "code",
   "execution_count": 174,
   "metadata": {},
   "outputs": [
    {
     "name": "stdout",
     "output_type": "stream",
     "text": [
      "103\n",
      "103\n"
     ]
    }
   ],
   "source": [
    "# Confirm the size\n",
    "print(len(target_office_list))\n",
    "print(combine_data.shape[0])"
   ]
  },
  {
   "cell_type": "code",
   "execution_count": 175,
   "metadata": {},
   "outputs": [],
   "source": [
    "# Change the name \n",
    "target_list = target_office_list"
   ]
  },
  {
   "cell_type": "markdown",
   "metadata": {},
   "source": [
    "#### CLUSTERING USING DBSCAN"
   ]
  },
  {
   "cell_type": "code",
   "execution_count": 176,
   "metadata": {},
   "outputs": [
    {
     "data": {
      "text/plain": [
       "array([-1,  0,  0,  0,  0,  0,  0,  0,  0,  0,  0,  0,  0,  0,  0,  0,  0,\n",
       "        0,  0,  0,  0, -1,  0, -1,  0,  0,  0,  0,  0,  0,  0,  0,  0,  0,\n",
       "        0,  0,  0,  0,  0,  0, -1,  0,  0,  0,  0,  0,  0,  0,  0,  0, -1,\n",
       "        0,  0,  0, -1,  0,  0,  0,  0,  0,  0,  0,  0,  0,  0,  0,  0,  0,\n",
       "        0,  0,  0,  0,  0,  0,  0, -1,  0,  0, -1, -1,  0,  0,  0,  0,  0,\n",
       "        0,  0,  0,  0, -1,  0,  0,  0,  0,  0,  0, -1,  0,  0,  0,  0,  0,\n",
       "       -1], dtype=int64)"
      ]
     },
     "execution_count": 176,
     "metadata": {},
     "output_type": "execute_result"
    }
   ],
   "source": [
    "# Radius\n",
    "epsilon = 0.006\n",
    "\n",
    "minimumSamples = 91\n",
    "db = DBSCAN(eps = epsilon, min_samples = minimumSamples).fit(target_list)\n",
    "labels = db.labels_\n",
    "labels"
   ]
  },
  {
   "cell_type": "code",
   "execution_count": 177,
   "metadata": {},
   "outputs": [
    {
     "data": {
      "text/html": [
       "<div>\n",
       "<style scoped>\n",
       "    .dataframe tbody tr th:only-of-type {\n",
       "        vertical-align: middle;\n",
       "    }\n",
       "\n",
       "    .dataframe tbody tr th {\n",
       "        vertical-align: top;\n",
       "    }\n",
       "\n",
       "    .dataframe thead th {\n",
       "        text-align: right;\n",
       "    }\n",
       "</style>\n",
       "<table border=\"1\" class=\"dataframe\">\n",
       "  <thead>\n",
       "    <tr style=\"text-align: right;\">\n",
       "      <th></th>\n",
       "      <th>name</th>\n",
       "      <th>location.lat</th>\n",
       "      <th>location.lng</th>\n",
       "      <th>cluster</th>\n",
       "    </tr>\n",
       "  </thead>\n",
       "  <tbody>\n",
       "    <tr>\n",
       "      <th>0</th>\n",
       "      <td>Angela's Office, 11th floor OMP</td>\n",
       "      <td>43.670198</td>\n",
       "      <td>-79.379034</td>\n",
       "      <td>-1</td>\n",
       "    </tr>\n",
       "    <tr>\n",
       "      <th>1</th>\n",
       "      <td>Martina's Office - BBDO</td>\n",
       "      <td>43.670275</td>\n",
       "      <td>-79.387297</td>\n",
       "      <td>0</td>\n",
       "    </tr>\n",
       "    <tr>\n",
       "      <th>2</th>\n",
       "      <td>CUPE 2191 Office</td>\n",
       "      <td>43.662360</td>\n",
       "      <td>-79.381737</td>\n",
       "      <td>0</td>\n",
       "    </tr>\n",
       "    <tr>\n",
       "      <th>3</th>\n",
       "      <td>Le Office</td>\n",
       "      <td>43.669748</td>\n",
       "      <td>-79.380067</td>\n",
       "      <td>0</td>\n",
       "    </tr>\n",
       "    <tr>\n",
       "      <th>4</th>\n",
       "      <td>Ken Chan Campaign Office</td>\n",
       "      <td>43.663729</td>\n",
       "      <td>-79.383380</td>\n",
       "      <td>0</td>\n",
       "    </tr>\n",
       "  </tbody>\n",
       "</table>\n",
       "</div>"
      ],
      "text/plain": [
       "                              name  location.lat  location.lng  cluster\n",
       "0  Angela's Office, 11th floor OMP     43.670198    -79.379034       -1\n",
       "1          Martina's Office - BBDO     43.670275    -79.387297        0\n",
       "2                 CUPE 2191 Office     43.662360    -79.381737        0\n",
       "3                        Le Office     43.669748    -79.380067        0\n",
       "4         Ken Chan Campaign Office     43.663729    -79.383380        0"
      ]
     },
     "execution_count": 177,
     "metadata": {},
     "output_type": "execute_result"
    }
   ],
   "source": [
    "combine_data['cluster'] = labels\n",
    "combine_data.head()      # -1 are outliers and 0 are densed areas"
   ]
  },
  {
   "cell_type": "markdown",
   "metadata": {},
   "source": [
    "#### WE ANALYSE ALL THIS INFORMATION ON A MAP"
   ]
  },
  {
   "cell_type": "code",
   "execution_count": 178,
   "metadata": {},
   "outputs": [
    {
     "data": {
      "text/html": [
       "<div style=\"width:100%;\"><div style=\"position:relative;width:100%;height:0;padding-bottom:60%;\"><span style=\"color:#565656\">Make this Notebook Trusted to load map: File -> Trust Notebook</span><iframe src=\"about:blank\" style=\"position:absolute;width:100%;height:100%;left:0;top:0;border:none !important;\" data-html=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 onload=\"this.contentDocument.open();this.contentDocument.write(atob(this.getAttribute('data-html')));this.contentDocument.close();\" allowfullscreen webkitallowfullscreen mozallowfullscreen></iframe></div></div>"
      ],
      "text/plain": [
       "<folium.folium.Map at 0x1862f433ec8>"
      ]
     },
     "execution_count": 178,
     "metadata": {},
     "output_type": "execute_result"
    }
   ],
   "source": [
    "# Create a map of Church and Wellesley, Downtown Toronto\n",
    "map_toronto = folium.Map(location = [LATITUDE, LONGITUDE], zoom_start = 15)\n",
    "\n",
    "# Extract cluster and outlier data bases\n",
    "cluster_df = combine_data[combine_data['cluster'] == 0]\n",
    "outlier_df = combine_data[combine_data['cluster'] == -1]\n",
    "\n",
    "# Add labels and cluster markers to the map\n",
    "for lat, lng, label in zip(cluster_df['location.lat'], cluster_df['location.lng'], cluster_df['name']):\n",
    "    label = folium.Popup(label, parse_html=True)\n",
    "    folium.CircleMarker(\n",
    "        [lat, lng],\n",
    "        radius = 3,\n",
    "        popup = label,\n",
    "        color = 'blue',\n",
    "        fill = True,\n",
    "        fill_color = '#3186cc',\n",
    "        fill_opacity = 0.7,\n",
    "        parse_html = False).add_to(map_toronto)\n",
    "    \n",
    "# Add labels and outlier markers to the map\n",
    "for lat, lng, label in zip(outlier_df['location.lat'], outlier_df['location.lng'], outlier_df['name']):\n",
    "    label = folium.Popup(label, parse_html=True)\n",
    "    folium.CircleMarker(\n",
    "        [lat, lng],\n",
    "        radius = 3,\n",
    "        popup = label,\n",
    "        color = 'red',\n",
    "        fill = True,\n",
    "        fill_color = '#ff0000',\n",
    "        fill_opacity = 0.7,\n",
    "        parse_html = False).add_to(map_toronto)\n",
    "map_toronto\n",
    "\n",
    "# Similarly adding trending places to the map if any. None in this case"
   ]
  },
  {
   "cell_type": "markdown",
   "metadata": {},
   "source": [
    "#### EXCLUDING THE OUTLIERS (RED), WE CAN SEE THAT THE IDEAL PLACE TO OPEN A COFFEE SHOP WOULD BE EITHER THE INTERSECTION OF BLOOR STREET WEST AND YONGE STREE OR THE INTERSECTION OF COLLEGE STREET AN YONGE STREET."
   ]
  }
 ],
 "metadata": {
  "kernelspec": {
   "display_name": "Python 3",
   "language": "python",
   "name": "python3"
  },
  "language_info": {
   "codemirror_mode": {
    "name": "ipython",
    "version": 3
   },
   "file_extension": ".py",
   "mimetype": "text/x-python",
   "name": "python",
   "nbconvert_exporter": "python",
   "pygments_lexer": "ipython3",
   "version": "3.7.6"
  }
 },
 "nbformat": 4,
 "nbformat_minor": 4
}
